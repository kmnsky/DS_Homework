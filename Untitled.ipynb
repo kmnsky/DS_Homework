{
 "cells": [
  {
   "cell_type": "markdown",
   "metadata": {},
   "source": [
    "Завдання 1\n",
    "\n",
    "    Дано ціле число. Якщо воно додатнє, то помножити його на 2; в іншому випадку не змінювати його.\n",
    "    Вивести кінцеве значення.\n"
   ]
  },
  {
   "cell_type": "code",
   "execution_count": 2,
   "metadata": {},
   "outputs": [
    {
     "name": "stdout",
     "output_type": "stream",
     "text": [
      "3\n"
     ]
    }
   ],
   "source": [
    "nmbr=3\n",
    "if nmbr%2==0:\n",
    "    nmbr*=2\n",
    "    print(nmbr)\n",
    "else:\n",
    "    print(nmbr)"
   ]
  },
  {
   "cell_type": "markdown",
   "metadata": {},
   "source": [
    "Завдання 2\n",
    "    Дано два цілих числа. Якщо вони рівні, то присвоїти цим змінним нулі;\n",
    "    в іншому випадку  - кожній змінній присвоїти суму цих значень."
   ]
  },
  {
   "cell_type": "code",
   "execution_count": null,
   "metadata": {},
   "outputs": [],
   "source": []
  }
 ],
 "metadata": {
  "kernelspec": {
   "display_name": "Python 3",
   "language": "python",
   "name": "python3"
  },
  "language_info": {
   "codemirror_mode": {
    "name": "ipython",
    "version": 3
   },
   "file_extension": ".py",
   "mimetype": "text/x-python",
   "name": "python",
   "nbconvert_exporter": "python",
   "pygments_lexer": "ipython3",
   "version": "3.8.3"
  }
 },
 "nbformat": 4,
 "nbformat_minor": 4
}
