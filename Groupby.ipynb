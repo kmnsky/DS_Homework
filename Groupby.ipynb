{
  "nbformat": 4,
  "nbformat_minor": 0,
  "metadata": {
    "colab": {
      "name": "Groupby.ipynb",
      "provenance": [],
      "collapsed_sections": [],
      "authorship_tag": "ABX9TyMQycZTcGzMbddN/vpCm//4",
      "include_colab_link": true
    },
    "kernelspec": {
      "name": "python3",
      "display_name": "Python 3"
    },
    "language_info": {
      "name": "python"
    }
  },
  "cells": [
    {
      "cell_type": "markdown",
      "metadata": {
        "id": "view-in-github",
        "colab_type": "text"
      },
      "source": [
        "<a href=\"https://colab.research.google.com/github/kmnsky/DS_Homework/blob/master/Groupby.ipynb\" target=\"_parent\"><img src=\"https://colab.research.google.com/assets/colab-badge.svg\" alt=\"Open In Colab\"/></a>"
      ]
    },
    {
      "cell_type": "code",
      "metadata": {
        "colab": {
          "base_uri": "https://localhost:8080/"
        },
        "id": "U2Xm-UCFOY37",
        "outputId": "89ea892c-51ca-41fa-9718-8d3ab33e9f6e"
      },
      "source": [
        "# data analysis and wrangling\n",
        "import pandas as pd\n",
        "import numpy as np\n",
        "import re\n",
        "\n",
        "# visualization\n",
        "import seaborn as sns\n",
        "import matplotlib.pyplot as plt\n",
        "%matplotlib inline\n",
        "\n",
        "# Mounting GoogleDrive\n",
        "from google.colab import drive\n",
        "drive.mount('/content/drive')\n",
        "\n",
        "# Writing multiple dataframes to worksheets using Pandas and XlsxWriter\n",
        "!pip install xlsxwriter\n",
        "import xlsxwriter"
      ],
      "execution_count": null,
      "outputs": [
        {
          "output_type": "stream",
          "text": [
            "Mounted at /content/drive\n",
            "Collecting xlsxwriter\n",
            "\u001b[?25l  Downloading https://files.pythonhosted.org/packages/2c/ce/74fd8d638a5b82ea0c6f08a5978f741c2655a38c3d6e82f73a0f084377e6/XlsxWriter-1.4.3-py2.py3-none-any.whl (149kB)\n",
            "\u001b[K     |████████████████████████████████| 153kB 7.4MB/s \n",
            "\u001b[?25hInstalling collected packages: xlsxwriter\n",
            "Successfully installed xlsxwriter-1.4.3\n"
          ],
          "name": "stdout"
        }
      ]
    },
    {
      "cell_type": "code",
      "metadata": {
        "id": "IaN49HP66Lmz"
      },
      "source": [
        "# Отображение 2-х знаков после запятой\n",
        "#pd.options.display.float_format = '{:,.2f}'.format"
      ],
      "execution_count": null,
      "outputs": []
    },
    {
      "cell_type": "code",
      "metadata": {
        "id": "4lOp2UKLPy7Z"
      },
      "source": [
        "# fbtool = pd.read_excel(\"/content/drive/My Drive/Datasets/Статистика аккаунтов_01_06_12.xlsx\", dtype = str)\n",
        "# crm = pd.read_excel(\"/content/drive/My Drive/Datasets/crm_01_06_12.xlsx\", dtype = str)"
      ],
      "execution_count": null,
      "outputs": []
    },
    {
      "cell_type": "code",
      "metadata": {
        "id": "bR714dUGDeMr"
      },
      "source": [
        "xls = pd.ExcelFile(\"/content/drive/My Drive/Datasets/Статистика аккаунтов_05_10.xlsx\")\n",
        "fbtool = pd.read_excel(xls, 'Sheet1')\n",
        "crm = pd.read_excel(xls, 'Sheet2')"
      ],
      "execution_count": null,
      "outputs": []
    },
    {
      "cell_type": "markdown",
      "metadata": {
        "id": "hjH2QZtzGgJD"
      },
      "source": [
        "### **Fbtool**"
      ]
    },
    {
      "cell_type": "code",
      "metadata": {
        "id": "yYjPoIybYQm_"
      },
      "source": [
        "# Изменение header\n",
        "fbtool.columns = fbtool.iloc[0]\n",
        "fbtool = fbtool.reindex(fbtool.index.drop(0))\n",
        "cols = list(fbtool.columns)\n",
        "cols[1] = 'Utm_campaign'\n",
        "cols[2] = 'Сabinet'\n",
        "cols[3] = 'Cost'\n",
        "cols[4] = 'Show'\n",
        "cols[5] = 'Link_cliks'\n",
        "cols[6] = 'Install'\n",
        "fbtool.columns = cols"
      ],
      "execution_count": null,
      "outputs": []
    },
    {
      "cell_type": "code",
      "metadata": {
        "id": "xCxVYUWGjL7V"
      },
      "source": [
        "# Удаление NaN\n",
        "fbtool = fbtool.replace(0,np.nan).dropna(axis=1,how=\"all\")"
      ],
      "execution_count": null,
      "outputs": []
    },
    {
      "cell_type": "code",
      "metadata": {
        "id": "RGsI3SnbVB-1"
      },
      "source": [
        "# Удаление колонок\n",
        "fbtool.drop([\"Сabinet\", \"CPI\", \"CPC\", \"CPM\", \"CTR\"], axis=1, inplace=True )"
      ],
      "execution_count": null,
      "outputs": []
    },
    {
      "cell_type": "code",
      "metadata": {
        "id": "31STr7k2Tl41"
      },
      "source": [
        "# удалить данные после пробела\n",
        "fbtool['Utm_campaign'] = fbtool['Utm_campaign'].map(lambda x: x.split()[0])"
      ],
      "execution_count": null,
      "outputs": []
    },
    {
      "cell_type": "code",
      "metadata": {
        "colab": {
          "base_uri": "https://localhost:8080/"
        },
        "id": "rxfTL52IMqNi",
        "outputId": "469e9f1f-c33e-437f-85bb-e0d16412e71f"
      },
      "source": [
        "print(fbtool['Utm_campaign'].values)"
      ],
      "execution_count": null,
      "outputs": [
        {
          "output_type": "stream",
          "text": [
            "['OPD_DE_SL_LPkPU200per_SOC3545_adsnew58525_V_camp2_adset1_2_auto_mw_1865_tx130_Despy702d38a_MythicalSphinx_And2_A2'\n",
            " 'OPD_DE_SL_LPkPU200per_SOC3545_adsnew58521_V_camp2_adset1_2_auto_mw_1865_tx130_Despy702d38a_MythicalSphinx_And2_A2'\n",
            " 'OPD_DE_SL_LPkPU200per_SOC3616_adsnew59800_V_camp1_adset1_2_auto_mw_1865_notx_Despy702d38a_DevilsCat_And2_A2'\n",
            " 'OPD_DE_SL_LPkPU200per_SOC2063_adsnew59963_V_camp1_adset1_2_auto_mw_1865_tx130_Despy702d38a_MythicalSphinx_And2_A2'\n",
            " 'OPD_DE_SL_LPkPU200per_SOC2063_adsnew60059_V_camp1_adset1_2_auto_mw_1865_tx130_Despy702d38a_MythicalSphinx_And2_A2'\n",
            " 'OPD_DE_SL_LPkPU200per_SOC2884_adsnew60760_V_camp1_adset1_2_auto_mw_1865_tx130_Despy702d38a_MythicalSphinx_And2_A2'\n",
            " 'OPD_DE_SL_LPkPU200per_SOC2884_adsnew60765_V_camp1_adset1_2_auto_mw_1865_tx130_Despy702d38a_MythicalSphinx_And2_A2'\n",
            " 'OPD_DE_SL_LPkPU200per_SOC2884_adsnew60676_V_camp2_adset1_2_auto_mw_1865_tx130_Despy702d38a_MythicalSphinx_And2_A2'\n",
            " 'OPD_DE_SL_LPkPU200per_SOC3651_adsnew61094_V_camp1_adset1_2_auto_mw_1865_tx133_DEvid700d26b_MythicalSphinx_And2_A2'\n",
            " 'OPD_DE_SL_LPkPU200per_SOC3651_adsnew61095_V_camp1_adset1_2_auto_mw_1865_tx133_DEvid700d26b_MythicalSphinx_And2_A2'\n",
            " 'OPD_DE_SL_LPkPU200per_SOC3651_adsnew60818_V_camp1_adset1_2_auto_mw_1865_tx133_DEvid700d26b_MythicalSphinx_And2_A2'\n",
            " 'OPD_DE_SL_LPkPU200per_SOC3651_adsnew60821_V_camp1_adset1_2_auto_mw_1865_tx133_DEvid700d26b_MythicalSphinx_And2_A2'\n",
            " 'OPD_DE_SL_LPkPU200per_SOC3654_adsnew61043_V_camp1_adset1_2_auto_mw_1865_tx133_DEvid700d26b_MythicalSphinx_And2_A2'\n",
            " 'OPD_DE_SL_LPkPU200per_SOC3236_adsnew61497_V_camp1_adset1_4_auto_mw_1865_tx133_DEvid700d26b_MythicalSphinx_And2_A2'\n",
            " 'OPD_DE_SL_LPkPU200per_SOC3236_adsnew61504_V_camp1_adset1_4_auto_mw_1865_tx133_DEvid700d26b_MythicalSphinx_And2_A2'\n",
            " 'OPD_DE_SL_LPkPU200per_SOC3236_adsnew61491_V_camp1_adset1_4_auto_mw_1865_tx133_DEvid700d26b_MythicalSphinx_And2_A2'\n",
            " 'OPD_DE_SL_LPkPU200per_SOC3236_adsnew61493_V_camp1_adset1_4_auto_mw_1865_tx133_DEvid700d26b_MythicalSphinx_And2_A2'\n",
            " 'OPD_DE_SL_LPkPU200per_SOC3236_adsnew61496_V_camp1_adset1_4_auto_mw_1865_tx133_DEvid700d26b_MythicalSphinx_And2_A2'\n",
            " 'OPD_DE_SL_LPkPU200per_SOC3236_adsnew61492_V_camp1_adset1_4_auto_mw_1865_tx133_DEvid700d26b_MythicalSphinx_And2_A2'\n",
            " 'OPD_DE_SL_LPkPU200per_SOC3236_adsnew61494_V_camp1_adset1_4_auto_mw_1865_tx133_DEvid700d26b_MythicalSphinx_And2_A2'\n",
            " 'OPD_DE_SL_LPkPU200per_SOC3236_adsnew61319_V_camp1_adset1_4_auto_mw_1865_tx133_DEvid700d26b_MythicalSphinx_And2_A2'\n",
            " 'OPD_DE_SL_LPkPU200per_SOC3236_adsnew61439_V_camp1_adset1_4_auto_mw_1865_tx133_DEvid700d26b_MythicalSphinx_And2_A2'\n",
            " 'OPD_DE_SL_LPkPU200per_SOC3236_adsnew61314_V_camp1_adset1_4_auto_mw_1865_tx133_DEvid700d26b_MythicalSphinx_And2_A2']\n"
          ],
          "name": "stdout"
        }
      ]
    },
    {
      "cell_type": "code",
      "metadata": {
        "id": "SggpqyeBVKJT"
      },
      "source": [
        "# текст по столбцам\n",
        "#fb_addset = fbtool['Utm_campaign'].str.split('_', expand=True)\n",
        "fb_addset = fbtool['Utm_campaign'].str.split(r'\\_|\\-', expand=True)"
      ],
      "execution_count": null,
      "outputs": []
    },
    {
      "cell_type": "code",
      "metadata": {
        "id": "z_P5LP2ubpLA"
      },
      "source": [
        "# Header for adset\n",
        "fb_addset.columns=['adset', 'geo', 'brand', 'page', 'soc', \n",
        "                   'bm', 'acc', 'camp', 'adset1', 'int', 'placement', \n",
        "                   'gender', 'age', 'text', 'creo', 'app', 'os', 'mb']"
      ],
      "execution_count": null,
      "outputs": []
    },
    {
      "cell_type": "code",
      "metadata": {
        "colab": {
          "base_uri": "https://localhost:8080/"
        },
        "id": "oo9NgAstNsyV",
        "outputId": "38c2082b-dc0b-40a6-bc83-395b4f7bb926"
      },
      "source": [
        "fb_addset.info()"
      ],
      "execution_count": null,
      "outputs": [
        {
          "output_type": "stream",
          "text": [
            "<class 'pandas.core.frame.DataFrame'>\n",
            "Int64Index: 23 entries, 1 to 23\n",
            "Data columns (total 18 columns):\n",
            " #   Column     Non-Null Count  Dtype \n",
            "---  ------     --------------  ----- \n",
            " 0   adset      23 non-null     object\n",
            " 1   geo        23 non-null     object\n",
            " 2   brand      23 non-null     object\n",
            " 3   page       23 non-null     object\n",
            " 4   soc        23 non-null     object\n",
            " 5   bm         23 non-null     object\n",
            " 6   acc        23 non-null     object\n",
            " 7   camp       23 non-null     object\n",
            " 8   adset1     23 non-null     object\n",
            " 9   int        23 non-null     object\n",
            " 10  placement  23 non-null     object\n",
            " 11  gender     23 non-null     object\n",
            " 12  age        23 non-null     object\n",
            " 13  text       23 non-null     object\n",
            " 14  creo       23 non-null     object\n",
            " 15  app        23 non-null     object\n",
            " 16  os         23 non-null     object\n",
            " 17  mb         23 non-null     object\n",
            "dtypes: object(18)\n",
            "memory usage: 3.4+ KB\n"
          ],
          "name": "stdout"
        }
      ]
    },
    {
      "cell_type": "code",
      "metadata": {
        "id": "SSlvBONZieDw"
      },
      "source": [
        "# соединить два датафрейма по столбцам\n",
        "fbtool_final = pd.concat([fbtool,fb_addset],axis=1)"
      ],
      "execution_count": null,
      "outputs": []
    },
    {
      "cell_type": "code",
      "metadata": {
        "id": "6_JOOQxEG1Ks"
      },
      "source": [
        "# Изменение форматов\n",
        "fbtool_final['Cost'] = fbtool_final['Cost'].astype(float)\n",
        "fbtool_final['Show'] = fbtool_final['Show'].astype(int)\n",
        "fbtool_final['Link_cliks'] = fbtool_final['Link_cliks'].astype(int)\n",
        "fbtool_final['Install'] = fbtool_final['Install'].astype(int)"
      ],
      "execution_count": null,
      "outputs": []
    },
    {
      "cell_type": "markdown",
      "metadata": {
        "id": "cUPRhjZTjji4"
      },
      "source": [
        "### **Настройка времени и ACC метки**"
      ]
    },
    {
      "cell_type": "code",
      "metadata": {
        "id": "0uxby-bPbDOz"
      },
      "source": [
        "# Время\n",
        "fbtool_final['Time'] = '10:00'"
      ],
      "execution_count": null,
      "outputs": []
    },
    {
      "cell_type": "code",
      "metadata": {
        "id": "xxo2hnfrq_Yb"
      },
      "source": [
        "# ACC только V\n",
        "fbtool_final = fbtool_final.loc[fbtool_final.acc == 'V']"
      ],
      "execution_count": null,
      "outputs": []
    },
    {
      "cell_type": "markdown",
      "metadata": {
        "id": "Zdsj2LaBOh1m"
      },
      "source": [
        "## **CRM**"
      ]
    },
    {
      "cell_type": "code",
      "metadata": {
        "id": "oEQB_d1IXoMR"
      },
      "source": [
        "# Удаление колонок\n",
        "crm.drop([\"Utm_source\", 'Utm_content', \"Utm_medium\"], axis=1, inplace=True)"
      ],
      "execution_count": null,
      "outputs": []
    },
    {
      "cell_type": "code",
      "metadata": {
        "id": "U2n_8KlKtXBk"
      },
      "source": [
        "# Переименование колонок\n",
        "crm = crm.rename(columns=\n",
        "                       {'Registration count': 'Reg',\n",
        "                        'Ftd count': 'Ftd'\n",
        "                       })"
      ],
      "execution_count": null,
      "outputs": []
    },
    {
      "cell_type": "code",
      "metadata": {
        "id": "f-ssJszLr9Yl"
      },
      "source": [
        "# замена прочерков\n",
        "crm['Ftd'].replace('-', 0, inplace=True)"
      ],
      "execution_count": null,
      "outputs": []
    },
    {
      "cell_type": "code",
      "metadata": {
        "id": "pzwg9Le6O8x7"
      },
      "source": [
        "# Изменение форматов\n",
        "crm['Reg'] = crm['Reg'].astype(int)\n",
        "crm['Ftd'] = crm['Ftd'].astype(int)"
      ],
      "execution_count": null,
      "outputs": []
    },
    {
      "cell_type": "markdown",
      "metadata": {
        "id": "gOB62rAB2_cF"
      },
      "source": [
        "## **Combining**"
      ]
    },
    {
      "cell_type": "code",
      "metadata": {
        "id": "GiaZhM6O7mIh"
      },
      "source": [
        "# Left join\n",
        "df = fbtool_final.merge(crm, how='left', on=[\"Utm_campaign\"])"
      ],
      "execution_count": null,
      "outputs": []
    },
    {
      "cell_type": "code",
      "metadata": {
        "id": "ftEKtVgqI4ET"
      },
      "source": [
        "# Замена NaN\n",
        "df.fillna(0, inplace=True)"
      ],
      "execution_count": null,
      "outputs": []
    },
    {
      "cell_type": "code",
      "metadata": {
        "id": "48gO8sCIElwi"
      },
      "source": [
        "# Изменение форматов\n",
        "df['Reg'] = df['Reg'].astype(int)"
      ],
      "execution_count": null,
      "outputs": []
    },
    {
      "cell_type": "markdown",
      "metadata": {
        "id": "KSmt9gzMgjl8"
      },
      "source": [
        "## **GROUP BY**"
      ]
    },
    {
      "cell_type": "code",
      "metadata": {
        "id": "fCftQr1Dc-6X"
      },
      "source": [
        "# Группировка при выборке\n",
        "df_group = pd.DataFrame(df.groupby(['bm', 'Utm_campaign'], as_index=False).sum())"
      ],
      "execution_count": null,
      "outputs": []
    },
    {
      "cell_type": "code",
      "metadata": {
        "id": "3AO8HvH1x9x8"
      },
      "source": [
        "# Вычисление\n",
        "df_group = df_group.assign(Instal_cost = df_group.Cost/df_group.Install)\n",
        "df_group = df_group.assign(Reg_cost = df_group.Cost/df_group.Reg)\n",
        "df_group = df_group.assign(CTR = df_group.Link_cliks/df_group.Show*100)\n",
        "df_group = df_group.assign(FTD_cost = df_group.Cost/df_group.Ftd)"
      ],
      "execution_count": null,
      "outputs": []
    },
    {
      "cell_type": "code",
      "metadata": {
        "id": "_rEtuhtUyxcs"
      },
      "source": [
        "# Удаление колонок\n",
        "df_group.drop(['Show', 'Link_cliks'], axis=1, inplace=True)"
      ],
      "execution_count": null,
      "outputs": []
    },
    {
      "cell_type": "code",
      "metadata": {
        "id": "_1z5Iv00zUIn"
      },
      "source": [
        "# Замена Inf\n",
        "df_group.replace([np.inf, -np.inf], 0, inplace=True)"
      ],
      "execution_count": null,
      "outputs": []
    },
    {
      "cell_type": "code",
      "metadata": {
        "id": "6GdLSnynT6aA"
      },
      "source": [
        "# Словарь класификации\n",
        "codes_cats = df_group.Utm_campaign.astype('category')\n",
        "dict_cats = dict(enumerate(codes_cats.cat.categories))"
      ],
      "execution_count": null,
      "outputs": []
    },
    {
      "cell_type": "code",
      "metadata": {
        "id": "uV14n9DMbCFc"
      },
      "source": [
        "# Присвоенные cat.codes\n",
        "df_group['ID'] = df_group.Utm_campaign.astype('category').cat.codes\n",
        "\n",
        "# Розшифровка\n",
        "#df_group['level_back'] = df_group['ID'].map(dict_cats)"
      ],
      "execution_count": null,
      "outputs": []
    },
    {
      "cell_type": "markdown",
      "metadata": {
        "id": "Ctq_ZucFfuRi"
      },
      "source": [
        "### **Modeling**"
      ]
    },
    {
      "cell_type": "code",
      "metadata": {
        "id": "7JsgvuOCjq_-"
      },
      "source": [
        "# machine learning\n",
        "from sklearn.svm import SVC, LinearSVC\n",
        "from sklearn.metrics import confusion_matrix, classification_report, roc_auc_score , accuracy_score, precision_score\n",
        "from sklearn.model_selection import train_test_split\n",
        "from xgboost.sklearn import XGBClassifier"
      ],
      "execution_count": null,
      "outputs": []
    },
    {
      "cell_type": "code",
      "metadata": {
        "id": "JLcP3vC4ZffY"
      },
      "source": [
        "df_train = pd.read_excel(\"/content/drive/My Drive/Datasets/Model_data_multi_test.xlsx\")"
      ],
      "execution_count": null,
      "outputs": []
    },
    {
      "cell_type": "code",
      "metadata": {
        "id": "yNA4x5UVZfnP"
      },
      "source": [
        "df_test = df_group[['ID', 'Cost', 'Install', 'Reg', 'Instal_cost', 'Reg_cost']].copy()"
      ],
      "execution_count": null,
      "outputs": []
    },
    {
      "cell_type": "code",
      "metadata": {
        "id": "KmGaov2LDI5L"
      },
      "source": [
        "# Переименование и удаление колонок\n",
        "df_train.drop(['Ftd', 'FTD_cost'], axis=1, inplace=True)\n",
        "\n",
        "df_train = df_train.rename(columns=\n",
        "                       {'Name': 'ID',})"
      ],
      "execution_count": null,
      "outputs": []
    },
    {
      "cell_type": "code",
      "metadata": {
        "id": "V6A1Q5rwD-l5"
      },
      "source": [
        "X = df_train.drop(\"Target\",axis=1)\n",
        "y = df_train[\"Target\"]"
      ],
      "execution_count": null,
      "outputs": []
    },
    {
      "cell_type": "code",
      "metadata": {
        "id": "zCx07Lo1IYs0"
      },
      "source": [
        "X_train, X_test, y_train, y_test = train_test_split(X,y, test_size=0.3, random_state=42)"
      ],
      "execution_count": null,
      "outputs": []
    },
    {
      "cell_type": "code",
      "metadata": {
        "id": "vaLqLsWnJkit"
      },
      "source": [
        "#Using kfold cross validation\n",
        "from sklearn.model_selection import KFold, cross_val_predict\n",
        "kf = KFold(shuffle=True, random_state=42, n_splits=3)\n",
        "for train_index, test_index in kf.split(X):\n",
        "    X_train, X_test, y_train, y_test = (X.iloc[train_index, :], \n",
        "                                        X.iloc[test_index, :], \n",
        "                                        y[train_index], \n",
        "                                        y[test_index])"
      ],
      "execution_count": null,
      "outputs": []
    },
    {
      "cell_type": "code",
      "metadata": {
        "id": "-F-LCKoQJyID"
      },
      "source": [
        "from xgboost.sklearn import XGBClassifier\n",
        "xgb=XGBClassifier(learning_rate=0.001, objective='multi:softprob', n_estimators=2500,\n",
        "                                max_depth=4, min_child_weight=0,\n",
        "                                gamma=0, subsample=0.7,\n",
        "                                colsample_bytree=0.7,\n",
        "                                scale_pos_weight=1, seed=27,\n",
        "                                reg_alpha=0.00006)\n",
        "xgb.fit(X_train,y_train)\n",
        "predict_12=xgb.predict(X_test)"
      ],
      "execution_count": null,
      "outputs": []
    },
    {
      "cell_type": "code",
      "metadata": {
        "colab": {
          "base_uri": "https://localhost:8080/"
        },
        "id": "fRxgUdebKaNx",
        "outputId": "0557e965-1ee3-4fec-9612-df4036e94941"
      },
      "source": [
        "print(accuracy_score(y_test,predict_12))\n",
        "print(confusion_matrix(y_test,predict_12))\n",
        "print(classification_report(y_test,predict_12))"
      ],
      "execution_count": null,
      "outputs": [
        {
          "output_type": "stream",
          "text": [
            "0.9724137931034482\n",
            "[[158   4   1]\n",
            " [  1  71   0]\n",
            " [  0   2  53]]\n",
            "              precision    recall  f1-score   support\n",
            "\n",
            "           0       0.99      0.97      0.98       163\n",
            "           1       0.92      0.99      0.95        72\n",
            "           2       0.98      0.96      0.97        55\n",
            "\n",
            "    accuracy                           0.97       290\n",
            "   macro avg       0.97      0.97      0.97       290\n",
            "weighted avg       0.97      0.97      0.97       290\n",
            "\n"
          ],
          "name": "stdout"
        }
      ]
    },
    {
      "cell_type": "code",
      "metadata": {
        "id": "tstp4ySSKgRR"
      },
      "source": [
        "pred = xgb.predict(df_test)\n",
        "pred = pred.astype(np.int)"
      ],
      "execution_count": null,
      "outputs": []
    },
    {
      "cell_type": "markdown",
      "metadata": {
        "id": "E0hainE1QHpj"
      },
      "source": [
        "## **Analysis**"
      ]
    },
    {
      "cell_type": "markdown",
      "metadata": {
        "id": "d1iZQDCqZuRJ"
      },
      "source": [
        "**Total page**"
      ]
    },
    {
      "cell_type": "code",
      "metadata": {
        "id": "i1K1M_DBKvw5"
      },
      "source": [
        "submission = pd.DataFrame({'ID':df_test['ID'],'score':pred})"
      ],
      "execution_count": null,
      "outputs": []
    },
    {
      "cell_type": "code",
      "metadata": {
        "id": "crunH_qTQuft"
      },
      "source": [
        "total = pd.merge(df_group, \n",
        "                   submission,\n",
        "                   on = 'ID')"
      ],
      "execution_count": null,
      "outputs": []
    },
    {
      "cell_type": "code",
      "metadata": {
        "id": "9g59QTgC09zS"
      },
      "source": [
        "total = total[['bm', 'Utm_campaign', 'Cost', 'Install', 'Reg', \n",
        "               'Ftd', 'Instal_cost', 'Reg_cost', 'FTD_cost', 'CTR', 'score']]"
      ],
      "execution_count": null,
      "outputs": []
    },
    {
      "cell_type": "code",
      "metadata": {
        "id": "E4-R08G4sKvD"
      },
      "source": [
        "# Два знака после запятой\n",
        "total = total.round(decimals=2)"
      ],
      "execution_count": null,
      "outputs": []
    },
    {
      "cell_type": "code",
      "metadata": {
        "id": "RijkOTOMHRsN"
      },
      "source": [
        "# Сортировка Cost по возростанию\n",
        "total = total.sort_values(['Cost'], ascending=False)"
      ],
      "execution_count": null,
      "outputs": []
    },
    {
      "cell_type": "code",
      "metadata": {
        "id": "FqgVgeAz-Aza"
      },
      "source": [
        "# Замена 0 на -\n",
        "total['Cost'].replace(0, '-', inplace=True)\n",
        "total['Install'].replace(0, '-', inplace=True)\n",
        "total['Reg'].replace(0, '-', inplace=True)\n",
        "total['Ftd'].replace(0, '-', inplace=True)\n",
        "total['Instal_cost'].replace(0, '-', inplace=True)\n",
        "total['Reg_cost'].replace(0, '-', inplace=True)\n",
        "total['FTD_cost'].replace(0, '-', inplace=True)\n",
        "total['Cost'] = total['Cost'].astype(int)"
      ],
      "execution_count": null,
      "outputs": []
    },
    {
      "cell_type": "code",
      "metadata": {
        "id": "gEuhxTfMSWFv"
      },
      "source": [
        "# # Загрузить файл\n",
        "# total.to_excel('AdsetPredicted.xlsx', index=False)\n",
        "# from google.colab import files\n",
        "# files.download('AdsetPredicted.xlsx')"
      ],
      "execution_count": null,
      "outputs": []
    },
    {
      "cell_type": "markdown",
      "metadata": {
        "id": "hW3hk0RjYVXQ"
      },
      "source": [
        "### **Time page**"
      ]
    },
    {
      "cell_type": "code",
      "metadata": {
        "id": "KBkFApXVYRRQ"
      },
      "source": [
        "df_time = pd.DataFrame(df[['Time', 'Cost','Link_cliks', 'Show', 'Install', 'Reg', 'Ftd']])"
      ],
      "execution_count": null,
      "outputs": []
    },
    {
      "cell_type": "code",
      "metadata": {
        "id": "OC0DQcWuYm33"
      },
      "source": [
        "df_time = df_time.groupby('Time', as_index=False).sum().copy()"
      ],
      "execution_count": null,
      "outputs": []
    },
    {
      "cell_type": "code",
      "metadata": {
        "id": "vqwFhjwEZTOO"
      },
      "source": [
        "# Вычисление\n",
        "df_time = df_time.assign(Instal_cost = df_time.Cost/df_time.Install)\n",
        "df_time = df_time.assign(Reg_cost = df_time.Cost/df_time.Reg)\n",
        "df_time = df_time.assign(FTD_cost = df_time.Cost/df_time.Ftd)\n",
        "df_time = df_time.assign(CTR = df_time.Link_cliks/df_time.Show*100)"
      ],
      "execution_count": null,
      "outputs": []
    },
    {
      "cell_type": "code",
      "metadata": {
        "id": "HDhRSc7OZsJf"
      },
      "source": [
        "# Замена Inf\n",
        "df_time.replace([np.inf, -np.inf], 0, inplace=True)"
      ],
      "execution_count": null,
      "outputs": []
    },
    {
      "cell_type": "code",
      "metadata": {
        "id": "SuhS4qk4gV7g"
      },
      "source": [
        "# Два знака после запятой\n",
        "df_time = df_time.round(decimals=2)"
      ],
      "execution_count": null,
      "outputs": []
    },
    {
      "cell_type": "code",
      "metadata": {
        "id": "_g0czz8egV-G"
      },
      "source": [
        "# Удалить колонки \n",
        "df_time = df_time.drop(['Link_cliks', 'Show'], axis=1)"
      ],
      "execution_count": null,
      "outputs": []
    },
    {
      "cell_type": "code",
      "metadata": {
        "id": "zlw6Zbh9gWAw"
      },
      "source": [
        "# Замена 0 на -\n",
        "df_time['Install'].replace(0, '-', inplace=True)\n",
        "df_time['Reg'].replace(0, '-', inplace=True)\n",
        "df_time['Instal_cost'].replace(0, '-', inplace=True)\n",
        "df_time['Reg_cost'].replace(0, '-', inplace=True)\n",
        "df_time['Ftd'].replace(0, '-', inplace=True)\n",
        "df_time['FTD_cost'].replace(0, '-', inplace=True)"
      ],
      "execution_count": null,
      "outputs": []
    },
    {
      "cell_type": "markdown",
      "metadata": {
        "id": "FTe6pL84Z6Zj"
      },
      "source": [
        "### **Creo page**"
      ]
    },
    {
      "cell_type": "code",
      "metadata": {
        "id": "67vIsdebaAyx"
      },
      "source": [
        "df_creo = pd.DataFrame(df[['creo', 'Cost','Link_cliks', 'Show', 'Install', 'Reg', 'Ftd']])"
      ],
      "execution_count": null,
      "outputs": []
    },
    {
      "cell_type": "code",
      "metadata": {
        "id": "iBq1gslGcVcY"
      },
      "source": [
        "df_creo = df_creo.groupby('creo', as_index=False).sum().sort_values(['Cost'], ascending=False)"
      ],
      "execution_count": null,
      "outputs": []
    },
    {
      "cell_type": "code",
      "metadata": {
        "id": "gyjwxe0MjQcy"
      },
      "source": [
        "# Вычисление\n",
        "df_creo = df_creo.assign(Instal_cost = df_creo.Cost/df_creo.Install)\n",
        "df_creo = df_creo.assign(Reg_cost = df_creo.Cost/df_creo.Reg)\n",
        "df_creo = df_creo.assign(FTD_cost = df_creo.Cost/df_creo.Ftd)\n",
        "df_creo = df_creo.assign(CTR = df_creo.Link_cliks/df_creo.Show*100)"
      ],
      "execution_count": null,
      "outputs": []
    },
    {
      "cell_type": "code",
      "metadata": {
        "id": "FZhKaaTDmdbe"
      },
      "source": [
        "# Замена Inf\n",
        "df_creo.replace([np.inf, -np.inf], 0, inplace=True)"
      ],
      "execution_count": null,
      "outputs": []
    },
    {
      "cell_type": "code",
      "metadata": {
        "id": "vSidSukwi8Qc"
      },
      "source": [
        "# # Добавление столбца итогов в фрейм данных Pandas\n",
        "# df_creo = df_creo.append(pd.Series(df_creo.sum(),name='Total'))\n",
        "# df_creo['creo'].replace(df_creo['creo']['Total'], 'Total', inplace=True)"
      ],
      "execution_count": null,
      "outputs": []
    },
    {
      "cell_type": "code",
      "metadata": {
        "id": "Bz1o31XO32kf"
      },
      "source": [
        "# Два знака после запятой\n",
        "df_creo = df_creo.round(decimals=2)"
      ],
      "execution_count": null,
      "outputs": []
    },
    {
      "cell_type": "code",
      "metadata": {
        "id": "qBNu6oCWjp7j"
      },
      "source": [
        "# Удалить колонки \n",
        "df_creo = df_creo.drop(['Link_cliks', 'Show'], axis=1)"
      ],
      "execution_count": null,
      "outputs": []
    },
    {
      "cell_type": "code",
      "metadata": {
        "id": "HS4FYAYfvJf1"
      },
      "source": [
        "# Замена 0 на -\n",
        "df_creo['Install'].replace(0, '-', inplace=True)\n",
        "df_creo['Reg'].replace(0, '-', inplace=True)\n",
        "df_creo['Instal_cost'].replace(0, '-', inplace=True)\n",
        "df_creo['Reg_cost'].replace(0, '-', inplace=True)\n",
        "df_creo['Ftd'].replace(0, '-', inplace=True)\n",
        "df_creo['FTD_cost'].replace(0, '-', inplace=True)"
      ],
      "execution_count": null,
      "outputs": []
    },
    {
      "cell_type": "code",
      "metadata": {
        "colab": {
          "base_uri": "https://localhost:8080/",
          "height": 112
        },
        "id": "CGBjOqOyJtBM",
        "outputId": "682393d1-a21c-47c5-e3ea-3b39baadf5fe"
      },
      "source": [
        "df_creo"
      ],
      "execution_count": null,
      "outputs": [
        {
          "output_type": "execute_result",
          "data": {
            "text/html": [
              "<div>\n",
              "<style scoped>\n",
              "    .dataframe tbody tr th:only-of-type {\n",
              "        vertical-align: middle;\n",
              "    }\n",
              "\n",
              "    .dataframe tbody tr th {\n",
              "        vertical-align: top;\n",
              "    }\n",
              "\n",
              "    .dataframe thead th {\n",
              "        text-align: right;\n",
              "    }\n",
              "</style>\n",
              "<table border=\"1\" class=\"dataframe\">\n",
              "  <thead>\n",
              "    <tr style=\"text-align: right;\">\n",
              "      <th></th>\n",
              "      <th>creo</th>\n",
              "      <th>Cost</th>\n",
              "      <th>Install</th>\n",
              "      <th>Reg</th>\n",
              "      <th>Ftd</th>\n",
              "      <th>Instal_cost</th>\n",
              "      <th>Reg_cost</th>\n",
              "      <th>FTD_cost</th>\n",
              "      <th>CTR</th>\n",
              "    </tr>\n",
              "  </thead>\n",
              "  <tbody>\n",
              "    <tr>\n",
              "      <th>0</th>\n",
              "      <td>DEvid700d26b</td>\n",
              "      <td>195.49</td>\n",
              "      <td>71</td>\n",
              "      <td>14</td>\n",
              "      <td>2</td>\n",
              "      <td>2.75</td>\n",
              "      <td>13.96</td>\n",
              "      <td>97.75</td>\n",
              "      <td>0.94</td>\n",
              "    </tr>\n",
              "    <tr>\n",
              "      <th>1</th>\n",
              "      <td>Despy702d38a</td>\n",
              "      <td>176.34</td>\n",
              "      <td>25</td>\n",
              "      <td>12</td>\n",
              "      <td>-</td>\n",
              "      <td>7.05</td>\n",
              "      <td>14.70</td>\n",
              "      <td>-</td>\n",
              "      <td>1.27</td>\n",
              "    </tr>\n",
              "  </tbody>\n",
              "</table>\n",
              "</div>"
            ],
            "text/plain": [
              "           creo    Cost  Install  Reg Ftd  Instal_cost  Reg_cost FTD_cost   CTR\n",
              "0  DEvid700d26b  195.49       71   14   2         2.75     13.96    97.75  0.94\n",
              "1  Despy702d38a  176.34       25   12   -         7.05     14.70        -  1.27"
            ]
          },
          "metadata": {
            "tags": []
          },
          "execution_count": 64
        }
      ]
    },
    {
      "cell_type": "markdown",
      "metadata": {
        "id": "x4MPePaDhBRl"
      },
      "source": [
        "### **App page**"
      ]
    },
    {
      "cell_type": "code",
      "metadata": {
        "id": "QM46gZpOhMis"
      },
      "source": [
        "df_app = pd.DataFrame(df[['app', 'Cost','Link_cliks', 'Show', 'Install', 'Reg', 'Ftd']])"
      ],
      "execution_count": null,
      "outputs": []
    },
    {
      "cell_type": "code",
      "metadata": {
        "id": "Ki3cE3-XhMmx"
      },
      "source": [
        "df_app = df_app.groupby('app', as_index=False).sum().sort_values(['Cost'], ascending=False)"
      ],
      "execution_count": null,
      "outputs": []
    },
    {
      "cell_type": "code",
      "metadata": {
        "id": "Vc2oyhEEo4_6"
      },
      "source": [
        "# Вычисление\n",
        "df_app = df_app.assign(Instal_cost = df_app.Cost/df_app.Install)\n",
        "df_app = df_app.assign(Reg_cost = df_app.Cost/df_app.Reg)\n",
        "df_app = df_app.assign(FTD_cost = df_app.Cost/df_app.Ftd)\n",
        "df_app = df_app.assign(CTR = df_app.Link_cliks/df_app.Show*100)"
      ],
      "execution_count": null,
      "outputs": []
    },
    {
      "cell_type": "code",
      "metadata": {
        "id": "Edmc5J95pM3X"
      },
      "source": [
        "# Замена Inf\n",
        "df_app.replace([np.inf, -np.inf], 0, inplace=True)"
      ],
      "execution_count": null,
      "outputs": []
    },
    {
      "cell_type": "code",
      "metadata": {
        "id": "m5gZSljA3hOy"
      },
      "source": [
        "# # Добавление столбца итогов в фрейм данных Pandas\n",
        "# df_app = df_app.append(pd.Series(df_app.sum(),name='Total'))\n",
        "# df_app['app'].replace(df_app['app']['Total'], 'Total', inplace=True)"
      ],
      "execution_count": null,
      "outputs": []
    },
    {
      "cell_type": "code",
      "metadata": {
        "id": "Oj2o0-mg3-J3"
      },
      "source": [
        "# Два знака после запятой\n",
        "df_app = df_app.round(decimals=2)"
      ],
      "execution_count": null,
      "outputs": []
    },
    {
      "cell_type": "code",
      "metadata": {
        "id": "eQOUOOa8pDBe"
      },
      "source": [
        "# Удалить колонки \n",
        "df_app = df_app.drop(['Link_cliks', 'Show'], axis=1)"
      ],
      "execution_count": null,
      "outputs": []
    },
    {
      "cell_type": "code",
      "metadata": {
        "id": "SMQgVIbOrcmT"
      },
      "source": [
        "# Замена 0 на -\n",
        "df_app['Install'].replace(0, '-', inplace=True)\n",
        "df_app['Reg'].replace(0, '-', inplace=True)\n",
        "df_app['Instal_cost'].replace(0, '-', inplace=True)\n",
        "df_app['Reg_cost'].replace(0, '-', inplace=True)\n",
        "df_app['Ftd'].replace(0, '-', inplace=True)\n",
        "df_app['FTD_cost'].replace(0, '-', inplace=True)"
      ],
      "execution_count": null,
      "outputs": []
    },
    {
      "cell_type": "code",
      "metadata": {
        "id": "T11GaT8-UcyC"
      },
      "source": [
        "# Активные компании\n",
        "#active_adset = total.query('score == 1').copy()\n",
        "#active_adset = active_adset['bm']\n",
        "#print('Active')\n",
        "#for i in set(active_adset):\n",
        "#  print(i)"
      ],
      "execution_count": null,
      "outputs": []
    },
    {
      "cell_type": "code",
      "metadata": {
        "id": "PrVMGvAe-u71"
      },
      "source": [
        "# Перезапуск\n",
        "#restart_adset = total.query('score == 0').copy()\n",
        "#restart_adset = restart_adset['bm']\n",
        "#print('Перезапуск')\n",
        "#for i in set(restart_adset):\n",
        "#  print(i)"
      ],
      "execution_count": null,
      "outputs": []
    },
    {
      "cell_type": "markdown",
      "metadata": {
        "id": "48OfAFh2KB71"
      },
      "source": [
        "### **Information page**"
      ]
    },
    {
      "cell_type": "code",
      "metadata": {
        "id": "b-nQ6d9pGGRs"
      },
      "source": [
        "df_info = df[['Time', 'Utm_campaign', 'Cost', 'Show', 'Link_cliks', \n",
        "          'Install', 'Reg', 'Ftd', 'adset', 'geo', 'brand', 'page', \n",
        "          'soc', 'bm', 'acc', 'camp', 'adset1', 'int', 'placement', \n",
        "          'gender', 'age', 'text', 'creo', 'app', 'os', 'mb']].copy()"
      ],
      "execution_count": null,
      "outputs": []
    },
    {
      "cell_type": "markdown",
      "metadata": {
        "id": "s1Pgjo6oRIQh"
      },
      "source": [
        "### **Save file**"
      ]
    },
    {
      "cell_type": "code",
      "metadata": {
        "id": "SBzXyNmOolM-"
      },
      "source": [
        "writer = pd.ExcelWriter('DE_10-00.xlsx', engine='xlsxwriter')\n",
        "\n",
        "# Write each dataframe to a different worksheet.\n",
        "total.to_excel(writer, sheet_name='Total_DE', index=False)\n",
        "df_time.to_excel(writer, sheet_name='Time_DE', index=False)\n",
        "df_creo.to_excel(writer, sheet_name='Creo_DE', index=False)\n",
        "df_app.to_excel(writer, sheet_name='App_DE', index=False)\n",
        "df_info.to_excel(writer, sheet_name='Information', index=False)\n",
        "\n",
        "# Get the xlsxwriter workbook and worksheet objects.\n",
        "workbook  = writer.book\n",
        "worksheet_total = writer.sheets['Total_DE']\n",
        "worksheet_time = writer.sheets['Time_DE']\n",
        "worksheet_creo = writer.sheets['Creo_DE']\n",
        "worksheet_app = writer.sheets['App_DE']\n",
        "\n",
        "# Set the column width and format.\n",
        "worksheet_total.set_column('A:A', 18)\n",
        "worksheet_total.set_column('B:B', 70)\n",
        "\n",
        "worksheet_time.set_column('A:A', 18)\n",
        "worksheet_creo.set_column('A:A', 18)\n",
        "worksheet_app.set_column('A:A', 18)\n",
        "\n",
        "\n",
        "# Close the Pandas Excel writer and output the Excel file.\n",
        "writer.save()"
      ],
      "execution_count": null,
      "outputs": []
    },
    {
      "cell_type": "code",
      "metadata": {
        "colab": {
          "base_uri": "https://localhost:8080/",
          "height": 17
        },
        "id": "eON9UrUY1E8x",
        "outputId": "31ebe426-5c3d-4f41-c4a9-0a4101a81e8f"
      },
      "source": [
        "# Загрузить файл\n",
        "from google.colab import files\n",
        "files.download('DE_10-00.xlsx')"
      ],
      "execution_count": null,
      "outputs": [
        {
          "output_type": "display_data",
          "data": {
            "application/javascript": [
              "\n",
              "    async function download(id, filename, size) {\n",
              "      if (!google.colab.kernel.accessAllowed) {\n",
              "        return;\n",
              "      }\n",
              "      const div = document.createElement('div');\n",
              "      const label = document.createElement('label');\n",
              "      label.textContent = `Downloading \"${filename}\": `;\n",
              "      div.appendChild(label);\n",
              "      const progress = document.createElement('progress');\n",
              "      progress.max = size;\n",
              "      div.appendChild(progress);\n",
              "      document.body.appendChild(div);\n",
              "\n",
              "      const buffers = [];\n",
              "      let downloaded = 0;\n",
              "\n",
              "      const channel = await google.colab.kernel.comms.open(id);\n",
              "      // Send a message to notify the kernel that we're ready.\n",
              "      channel.send({})\n",
              "\n",
              "      for await (const message of channel.messages) {\n",
              "        // Send a message to notify the kernel that we're ready.\n",
              "        channel.send({})\n",
              "        if (message.buffers) {\n",
              "          for (const buffer of message.buffers) {\n",
              "            buffers.push(buffer);\n",
              "            downloaded += buffer.byteLength;\n",
              "            progress.value = downloaded;\n",
              "          }\n",
              "        }\n",
              "      }\n",
              "      const blob = new Blob(buffers, {type: 'application/binary'});\n",
              "      const a = document.createElement('a');\n",
              "      a.href = window.URL.createObjectURL(blob);\n",
              "      a.download = filename;\n",
              "      div.appendChild(a);\n",
              "      a.click();\n",
              "      div.remove();\n",
              "    }\n",
              "  "
            ],
            "text/plain": [
              "<IPython.core.display.Javascript object>"
            ]
          },
          "metadata": {
            "tags": []
          }
        },
        {
          "output_type": "display_data",
          "data": {
            "application/javascript": [
              "download(\"download_4e3d9dde-6aad-4a9d-ae43-b006010fa72f\", \"DE_10-00.xlsx\", 12093)"
            ],
            "text/plain": [
              "<IPython.core.display.Javascript object>"
            ]
          },
          "metadata": {
            "tags": []
          }
        }
      ]
    },
    {
      "cell_type": "code",
      "metadata": {
        "id": "VsAZughHCyrS"
      },
      "source": [
        "# df1 = pd.DataFrame([\n",
        "# {'Time': '10:00', 'Id': 1, 'Cost': 25},\n",
        "# {'Time': '10:00', 'Id': 2, 'Cost': 15}\n",
        "# ])\n",
        "\n",
        "# df2 = pd.DataFrame([\n",
        "# {'Time': '11:00', 'Id': 1, 'Cost': 30},\n",
        "# {'Time': '11:00', 'Id': 2, 'Cost': 18}\n",
        "# ])\n",
        "\n",
        "# df = df1.merge(df2,  on=['Id'], suffixes=('_x', ''))\n",
        "\n",
        "# df['Cost'] = df['Cost'] - df['Cost_x']\n",
        "\n",
        "# df_final = df1.append(df.loc[:, ['Time', 'Id', 'Cost']])"
      ],
      "execution_count": null,
      "outputs": []
    }
  ]
}