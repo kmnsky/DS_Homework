{
 "cells": [
  {
   "cell_type": "markdown",
   "metadata": {},
   "source": [
    "# 1. Markdown cells\n",
    "- Hi! Its Main Academy?\n",
    "- All HTML tabs are supported!\n",
    "- Моя сторінка на лінкедін [Лінкедін](https://pages.github.com/)."
   ]
  },
  {
   "cell_type": "markdown",
   "metadata": {},
   "source": [
    "# This is Heading1\n",
    "## This is Heading1\n",
    "some gray colored text:\n",
    "> This is where we can bring qouters and present them nicely\n",
    "\n",
    "And this is the paragraph about something very important. Even math: $$ \\mathcal{y_{sub}=\\sqrt{(x_{sub})}} $$\n",
    "Or python code example:\n",
    "```\n",
    "import math\n",
    "def foo():\n",
    "    return \"foo\"\n",
    "```"
   ]
  },
  {
   "cell_type": "markdown",
   "metadata": {},
   "source": [
    "Here is the sample mean: $$ \\mathcal{\\overline{y}=\\frac{1}{n}\\sum_{i=1}^{n}y_i}$$\n",
    "Here is the sample variance: $$ \\sigma^2=\\frac{\\sum_{i=1}^{n}(y_i-\\overline{y})^2}{n-1} $$ \n",
    "Here is the sample standart deviation: $$ \\mathcal{\\sigma^2=\\sqrt{\\frac{\\sum_{i=1}^{n}(y_i-\\overline{y})^2}{n-1}}} $$ "
   ]
  },
  {
   "cell_type": "code",
   "execution_count": null,
   "metadata": {},
   "outputs": [],
   "source": []
  }
 ],
 "metadata": {
  "kernelspec": {
   "display_name": "Python 3",
   "language": "python",
   "name": "python3"
  },
  "language_info": {
   "codemirror_mode": {
    "name": "ipython",
    "version": 3
   },
   "file_extension": ".py",
   "mimetype": "text/x-python",
   "name": "python",
   "nbconvert_exporter": "python",
   "pygments_lexer": "ipython3",
   "version": "3.8.3"
  }
 },
 "nbformat": 4,
 "nbformat_minor": 4
}
