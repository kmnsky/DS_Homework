{
  "nbformat": 4,
  "nbformat_minor": 0,
  "metadata": {
    "colab": {
      "name": "Daily_stat.ipynb",
      "provenance": [],
      "collapsed_sections": [],
      "authorship_tag": "ABX9TyNSBz+Q8YNy2qKrBtkTM1MF",
      "include_colab_link": true
    },
    "kernelspec": {
      "name": "python3",
      "display_name": "Python 3"
    },
    "language_info": {
      "name": "python"
    }
  },
  "cells": [
    {
      "cell_type": "markdown",
      "metadata": {
        "id": "view-in-github",
        "colab_type": "text"
      },
      "source": [
        "<a href=\"https://colab.research.google.com/github/kmnsky/DS_Homework/blob/master/Daily_stat.ipynb\" target=\"_parent\"><img src=\"https://colab.research.google.com/assets/colab-badge.svg\" alt=\"Open In Colab\"/></a>"
      ]
    },
    {
      "cell_type": "markdown",
      "metadata": {
        "id": "HydWHsTmO4IY"
      },
      "source": [
        "## **Daily stat**"
      ]
    },
    {
      "cell_type": "code",
      "metadata": {
        "colab": {
          "base_uri": "https://localhost:8080/"
        },
        "id": "ESquuEJ3OuyL",
        "outputId": "290f3ae4-0a45-444a-b21e-17ccf422d8f8"
      },
      "source": [
        "# data analysis and wrangling\n",
        "import pandas as pd\n",
        "import numpy as np\n",
        "\n",
        "# visualization\n",
        "import seaborn as sns\n",
        "import matplotlib.pyplot as plt\n",
        "%matplotlib inline\n",
        "\n",
        "# Mounting GoogleDrive\n",
        "from google.colab import drive\n",
        "drive.mount('/content/drive')\n",
        "\n",
        "# Writing multiple dataframes to worksheets using Pandas and XlsxWriter\n",
        "!pip install xlsxwriter\n",
        "import xlsxwriter"
      ],
      "execution_count": 110,
      "outputs": [
        {
          "output_type": "stream",
          "text": [
            "Drive already mounted at /content/drive; to attempt to forcibly remount, call drive.mount(\"/content/drive\", force_remount=True).\n",
            "Requirement already satisfied: xlsxwriter in /usr/local/lib/python3.7/dist-packages (1.4.3)\n"
          ],
          "name": "stdout"
        }
      ]
    },
    {
      "cell_type": "code",
      "metadata": {
        "id": "zomVICewamqa"
      },
      "source": [
        "xls = pd.ExcelFile(\"/content/drive/My Drive/Datasets/DE_10-00.xlsx\")\n",
        "df1 = pd.read_excel(xls, 'Information')"
      ],
      "execution_count": 111,
      "outputs": []
    },
    {
      "cell_type": "code",
      "metadata": {
        "id": "TeXshTpvpP_D"
      },
      "source": [
        "xls = pd.ExcelFile(\"/content/drive/My Drive/Datasets/DE_11-00.xlsx\")\n",
        "df2 = pd.read_excel(xls, 'Information')"
      ],
      "execution_count": 112,
      "outputs": []
    },
    {
      "cell_type": "markdown",
      "metadata": {
        "id": "U1cLGqxCVI-m"
      },
      "source": [
        "## **Hourly Analitics**"
      ]
    },
    {
      "cell_type": "code",
      "metadata": {
        "id": "eooEP6wQsCH0"
      },
      "source": [
        "result = pd.merge(df2, df1, how=\"left\", on=[\"Utm_campaign\"], suffixes=('_x', ''))"
      ],
      "execution_count": 113,
      "outputs": []
    },
    {
      "cell_type": "code",
      "metadata": {
        "id": "sGYPR_TUByH4"
      },
      "source": [
        "# Замена NaN\n",
        "result.fillna(0, inplace=True)"
      ],
      "execution_count": 114,
      "outputs": []
    },
    {
      "cell_type": "code",
      "metadata": {
        "id": "lmJY_Ji03rfA"
      },
      "source": [
        "# Вычисление\n",
        "result['Cost_x'] = result['Cost_x'] - result['Cost']\n",
        "result['Show_x'] = result['Show_x'] - result['Show']\n",
        "result['Link_cliks_x'] = result['Link_cliks_x'] - result['Link_cliks']\n",
        "result['Install_x'] = result['Install_x'] - result['Install']\n",
        "result['Reg_x'] = result['Reg_x'] - result['Reg']\n",
        "result['Ftd_x'] = result['Ftd_x'] - result['Ftd']"
      ],
      "execution_count": 115,
      "outputs": []
    },
    {
      "cell_type": "code",
      "metadata": {
        "id": "Dw6a9XIXPOj0"
      },
      "source": [
        "result.drop(['Time', 'Cost', 'Show', 'Link_cliks', 'Install', 'Reg',\n",
        "       'Ftd', 'adset', 'geo', 'brand', 'page', 'soc', 'bm', 'acc', 'camp',\n",
        "       'adset1', 'int', 'placement', 'gender', 'age', 'text', 'creo', 'app',\n",
        "       'os', 'mb'], axis=1, inplace = True)"
      ],
      "execution_count": 116,
      "outputs": []
    },
    {
      "cell_type": "code",
      "metadata": {
        "id": "5kCHEuGnQV04"
      },
      "source": [
        "result.columns = ['Time', 'Utm_campaign', 'Cost', 'Show', 'Link_cliks', 'Install', 'Reg',\n",
        "       'Ftd', 'adset', 'geo', 'brand', 'page', 'soc', 'bm', 'acc', 'camp',\n",
        "       'adset1', 'int', 'placement', 'gender', 'age', 'text', 'creo', 'app',\n",
        "       'os', 'mb']"
      ],
      "execution_count": 117,
      "outputs": []
    },
    {
      "cell_type": "code",
      "metadata": {
        "id": "0KHtij02Thq2"
      },
      "source": [
        "df_final = df1.append(result.loc[:, :])"
      ],
      "execution_count": 118,
      "outputs": []
    },
    {
      "cell_type": "markdown",
      "metadata": {
        "id": "UfzDWCskVxfy"
      },
      "source": [
        "### **Group by**"
      ]
    },
    {
      "cell_type": "code",
      "metadata": {
        "id": "NzP-Ykm7V0-a"
      },
      "source": [
        "# Группировка при выборке df_final\n",
        "df_group = pd.DataFrame(df_final.groupby(['bm'], as_index=False).sum().sort_values(['Cost'], ascending=False))"
      ],
      "execution_count": 119,
      "outputs": []
    },
    {
      "cell_type": "code",
      "metadata": {
        "id": "ZG5l5JYPWKYi"
      },
      "source": [
        "df_group[\"ID\"] = np.arange(0, 0 + len(df_group))"
      ],
      "execution_count": 120,
      "outputs": []
    },
    {
      "cell_type": "code",
      "metadata": {
        "id": "fB-g40uiwP1b"
      },
      "source": [
        "df_group = df_group[['bm', 'ID']]"
      ],
      "execution_count": 121,
      "outputs": []
    },
    {
      "cell_type": "code",
      "metadata": {
        "id": "eiCsz2f9SkVC"
      },
      "source": [
        "# Добавление столбца ID для сортировки\n",
        "df_final = pd.merge(df_final, df_group, how=\"left\", on=[\"bm\"])"
      ],
      "execution_count": 122,
      "outputs": []
    },
    {
      "cell_type": "code",
      "metadata": {
        "id": "0k3oGnozAoFs"
      },
      "source": [
        "# Сводная таблица\n",
        "df_pivot = df_final.groupby(['ID', 'bm']).apply(lambda sub: sub.pivot_table(\n",
        "    index=['Utm_campaign', 'Time'],\n",
        "    values=['Cost', 'Install', 'Show', 'Link_cliks', 'Reg', 'Ftd'],\n",
        "    aggfunc=np.sum,\n",
        "    margins=True,\n",
        "    margins_name='Total'\n",
        "))"
      ],
      "execution_count": 123,
      "outputs": []
    },
    {
      "cell_type": "code",
      "metadata": {
        "id": "OiKkjgnPqsRG"
      },
      "source": [
        "# Вычисление\n",
        "df_pivot = df_pivot.assign(Instal_cost = df_pivot.Cost/df_pivot.Install)\n",
        "df_pivot = df_pivot.assign(Reg_cost = df_pivot.Cost/df_pivot.Reg)\n",
        "df_pivot = df_pivot.assign(FTD_cost = df_pivot.Cost/df_pivot.Ftd)\n",
        "df_pivot = df_pivot.assign(CTR = df_pivot.Link_cliks/df_pivot.Show*100)\n",
        "#df_pivot.loc[('Total', '', '')] = df_pivot.sum()"
      ],
      "execution_count": 124,
      "outputs": []
    },
    {
      "cell_type": "code",
      "metadata": {
        "id": "_B2fSx8U4-fO"
      },
      "source": [
        "# Замена Inf\n",
        "df_pivot.replace([np.inf, -np.inf, np.nan], 0, inplace=True)"
      ],
      "execution_count": 125,
      "outputs": []
    },
    {
      "cell_type": "code",
      "metadata": {
        "id": "6U5ORERq8YkK"
      },
      "source": [
        "# Два знака после запятой\n",
        "df_pivot = df_pivot.round(decimals=2)"
      ],
      "execution_count": 126,
      "outputs": []
    },
    {
      "cell_type": "code",
      "metadata": {
        "id": "akVodjFj-UA1"
      },
      "source": [
        "# Удалить колонки \n",
        "df_pivot = df_pivot.drop(['Link_cliks', 'Show'], axis=1)"
      ],
      "execution_count": 127,
      "outputs": []
    },
    {
      "cell_type": "code",
      "metadata": {
        "id": "5PfHs3eXYvSf"
      },
      "source": [
        "# Сортировка по первому уровню\n",
        "df_pivot = df_pivot.sort_values(by = [\"ID\", 'Utm_campaign'], axis = 0, ascending=[True, False])"
      ],
      "execution_count": 129,
      "outputs": []
    },
    {
      "cell_type": "code",
      "metadata": {
        "id": "_mghqu6exMBv"
      },
      "source": [
        "df_pivot = df_pivot.droplevel('ID')"
      ],
      "execution_count": 130,
      "outputs": []
    },
    {
      "cell_type": "code",
      "metadata": {
        "colab": {
          "base_uri": "https://localhost:8080/",
          "height": 17
        },
        "id": "3VnhP3kSrTwe",
        "outputId": "74976dc0-5524-4cff-9f0c-f3ece973e112"
      },
      "source": [
        "# Загрузить файл\n",
        "df_pivot.to_excel('AdsetPredicted.xlsx')\n",
        "from google.colab import files\n",
        "files.download('AdsetPredicted.xlsx')"
      ],
      "execution_count": 133,
      "outputs": [
        {
          "output_type": "display_data",
          "data": {
            "application/javascript": [
              "\n",
              "    async function download(id, filename, size) {\n",
              "      if (!google.colab.kernel.accessAllowed) {\n",
              "        return;\n",
              "      }\n",
              "      const div = document.createElement('div');\n",
              "      const label = document.createElement('label');\n",
              "      label.textContent = `Downloading \"${filename}\": `;\n",
              "      div.appendChild(label);\n",
              "      const progress = document.createElement('progress');\n",
              "      progress.max = size;\n",
              "      div.appendChild(progress);\n",
              "      document.body.appendChild(div);\n",
              "\n",
              "      const buffers = [];\n",
              "      let downloaded = 0;\n",
              "\n",
              "      const channel = await google.colab.kernel.comms.open(id);\n",
              "      // Send a message to notify the kernel that we're ready.\n",
              "      channel.send({})\n",
              "\n",
              "      for await (const message of channel.messages) {\n",
              "        // Send a message to notify the kernel that we're ready.\n",
              "        channel.send({})\n",
              "        if (message.buffers) {\n",
              "          for (const buffer of message.buffers) {\n",
              "            buffers.push(buffer);\n",
              "            downloaded += buffer.byteLength;\n",
              "            progress.value = downloaded;\n",
              "          }\n",
              "        }\n",
              "      }\n",
              "      const blob = new Blob(buffers, {type: 'application/binary'});\n",
              "      const a = document.createElement('a');\n",
              "      a.href = window.URL.createObjectURL(blob);\n",
              "      a.download = filename;\n",
              "      div.appendChild(a);\n",
              "      a.click();\n",
              "      div.remove();\n",
              "    }\n",
              "  "
            ],
            "text/plain": [
              "<IPython.core.display.Javascript object>"
            ]
          },
          "metadata": {
            "tags": []
          }
        },
        {
          "output_type": "display_data",
          "data": {
            "application/javascript": [
              "download(\"download_623c9091-8381-425d-8de2-f2707ab148c3\", \"AdsetPredicted.xlsx\", 10738)"
            ],
            "text/plain": [
              "<IPython.core.display.Javascript object>"
            ]
          },
          "metadata": {
            "tags": []
          }
        }
      ]
    },
    {
      "cell_type": "code",
      "metadata": {
        "id": "4bT_w6rsz7ws"
      },
      "source": [
        "writer = pd.ExcelWriter('DE_10-00.xlsx', engine='xlsxwriter')\n",
        "\n",
        "# Write each dataframe to a different worksheet.\n",
        "df_pivot.to_excel(writer, sheet_name='Total_DE')\n",
        "\n",
        "# Get the xlsxwriter workbook and worksheet objects.\n",
        "workbook  = writer.book\n",
        "worksheet_total = writer.sheets['Total_DE']\n",
        "\n",
        "# Format all the columns.\n",
        "my_format = workbook.add_format()\n",
        "my_format.set_align('center')\n",
        "\n",
        "# Set the column width and format.\n",
        "worksheet_total.set_column('D:K', None, my_format)\n",
        "worksheet_total.set_column('A:A', 18)\n",
        "worksheet_total.set_column('B:B', 50)\n",
        "\n",
        "# Close the Pandas Excel writer and output the Excel file.\n",
        "writer.save()"
      ],
      "execution_count": 134,
      "outputs": []
    },
    {
      "cell_type": "code",
      "metadata": {
        "colab": {
          "base_uri": "https://localhost:8080/",
          "height": 17
        },
        "id": "U8qhvoaS_PaJ",
        "outputId": "6d31569f-8d3d-4755-b3a0-3f17945989d0"
      },
      "source": [
        "# Загрузить файл\n",
        "from google.colab import files\n",
        "files.download('DE_10-00.xlsx')"
      ],
      "execution_count": 135,
      "outputs": [
        {
          "output_type": "display_data",
          "data": {
            "application/javascript": [
              "\n",
              "    async function download(id, filename, size) {\n",
              "      if (!google.colab.kernel.accessAllowed) {\n",
              "        return;\n",
              "      }\n",
              "      const div = document.createElement('div');\n",
              "      const label = document.createElement('label');\n",
              "      label.textContent = `Downloading \"${filename}\": `;\n",
              "      div.appendChild(label);\n",
              "      const progress = document.createElement('progress');\n",
              "      progress.max = size;\n",
              "      div.appendChild(progress);\n",
              "      document.body.appendChild(div);\n",
              "\n",
              "      const buffers = [];\n",
              "      let downloaded = 0;\n",
              "\n",
              "      const channel = await google.colab.kernel.comms.open(id);\n",
              "      // Send a message to notify the kernel that we're ready.\n",
              "      channel.send({})\n",
              "\n",
              "      for await (const message of channel.messages) {\n",
              "        // Send a message to notify the kernel that we're ready.\n",
              "        channel.send({})\n",
              "        if (message.buffers) {\n",
              "          for (const buffer of message.buffers) {\n",
              "            buffers.push(buffer);\n",
              "            downloaded += buffer.byteLength;\n",
              "            progress.value = downloaded;\n",
              "          }\n",
              "        }\n",
              "      }\n",
              "      const blob = new Blob(buffers, {type: 'application/binary'});\n",
              "      const a = document.createElement('a');\n",
              "      a.href = window.URL.createObjectURL(blob);\n",
              "      a.download = filename;\n",
              "      div.appendChild(a);\n",
              "      a.click();\n",
              "      div.remove();\n",
              "    }\n",
              "  "
            ],
            "text/plain": [
              "<IPython.core.display.Javascript object>"
            ]
          },
          "metadata": {
            "tags": []
          }
        },
        {
          "output_type": "display_data",
          "data": {
            "application/javascript": [
              "download(\"download_24048a8d-c3fd-4269-a03a-77d73be4edbc\", \"DE_10-00.xlsx\", 10918)"
            ],
            "text/plain": [
              "<IPython.core.display.Javascript object>"
            ]
          },
          "metadata": {
            "tags": []
          }
        }
      ]
    },
    {
      "cell_type": "code",
      "metadata": {
        "id": "9AeffsXD0xcv"
      },
      "source": [
        ""
      ],
      "execution_count": 135,
      "outputs": []
    }
  ]
}