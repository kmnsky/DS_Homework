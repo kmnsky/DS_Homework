{
  "nbformat": 4,
  "nbformat_minor": 0,
  "metadata": {
    "colab": {
      "name": "Groupby.ipynb",
      "provenance": [],
      "collapsed_sections": [
        "L1HeX35CjlTM",
        "hjH2QZtzGgJD",
        "cUPRhjZTjji4",
        "Zdsj2LaBOh1m",
        "gOB62rAB2_cF",
        "KSmt9gzMgjl8",
        "Ctq_ZucFfuRi",
        "d1iZQDCqZuRJ",
        "hW3hk0RjYVXQ",
        "FTe6pL84Z6Zj",
        "x4MPePaDhBRl",
        "48OfAFh2KB71",
        "s1Pgjo6oRIQh",
        "J0c_DsmonKm0"
      ],
      "authorship_tag": "ABX9TyOFtZlYhRFSPSK0hVqMsSH0",
      "include_colab_link": true
    },
    "kernelspec": {
      "name": "python3",
      "display_name": "Python 3"
    },
    "language_info": {
      "name": "python"
    }
  },
  "cells": [
    {
      "cell_type": "markdown",
      "metadata": {
        "id": "view-in-github",
        "colab_type": "text"
      },
      "source": [
        "<a href=\"https://colab.research.google.com/github/kmnsky/DS_Homework/blob/master/Stat.ipynb\" target=\"_parent\"><img src=\"https://colab.research.google.com/assets/colab-badge.svg\" alt=\"Open In Colab\"/></a>"
      ]
    },
    {
      "cell_type": "markdown",
      "metadata": {
        "id": "L1HeX35CjlTM"
      },
      "source": [
        "### **Import**"
      ]
    },
    {
      "cell_type": "code",
      "metadata": {
        "colab": {
          "base_uri": "https://localhost:8080/"
        },
        "id": "U2Xm-UCFOY37",
        "outputId": "16777988-96ad-4261-e2b7-5734cf0a29cd"
      },
      "source": [
        "# data analysis and wrangling\n",
        "import pandas as pd\n",
        "import numpy as np\n",
        "import re\n",
        "\n",
        "# visualization\n",
        "import seaborn as sns\n",
        "import matplotlib.pyplot as plt\n",
        "%matplotlib inline\n",
        "\n",
        "# Mounting GoogleDrive\n",
        "from google.colab import drive\n",
        "drive.mount('/content/drive')\n",
        "\n",
        "# Writing multiple dataframes to worksheets using Pandas and XlsxWriter\n",
        "!pip install xlsxwriter\n",
        "import xlsxwriter"
      ],
      "execution_count": null,
      "outputs": [
        {
          "output_type": "stream",
          "text": [
            "Drive already mounted at /content/drive; to attempt to forcibly remount, call drive.mount(\"/content/drive\", force_remount=True).\n",
            "Requirement already satisfied: xlsxwriter in /usr/local/lib/python3.7/dist-packages (1.4.3)\n"
          ],
          "name": "stdout"
        }
      ]
    },
    {
      "cell_type": "markdown",
      "metadata": {
        "id": "bkv6BhItGm2i"
      },
      "source": [
        "## **Выгрузка**"
      ]
    },
    {
      "cell_type": "code",
      "metadata": {
        "id": "bR714dUGDeMr"
      },
      "source": [
        "xls = pd.ExcelFile(\"/content/drive/My Drive/Datasets/Статистика аккаунтов_18-00.xlsx\")\n",
        "fbtool = pd.read_excel(xls, 'Sheet1')\n",
        "crm = pd.read_excel(xls, 'Sheet2')"
      ],
      "execution_count": null,
      "outputs": []
    },
    {
      "cell_type": "markdown",
      "metadata": {
        "id": "Y_IsNX1JIR9m"
      },
      "source": [
        "### **Статистика предыдущий выгрузки**"
      ]
    },
    {
      "cell_type": "code",
      "metadata": {
        "id": "_Qe0itjDH7bp"
      },
      "source": [
        "xls1= pd.ExcelFile(\"/content/drive/My Drive/Datasets/PL_17-30.xlsx\")\n",
        "df1 = pd.read_excel(xls1, 'Information')"
      ],
      "execution_count": null,
      "outputs": []
    },
    {
      "cell_type": "code",
      "metadata": {
        "id": "XUeHB0apzcZZ"
      },
      "source": [
        "# Должен иметь шапку, первую строку \"Adset\" в файле не удалять \n",
        "df_stop = pd.read_excel(\"/content/drive/My Drive/Datasets/Status.xlsx\", names=['bm'], header=None)"
      ],
      "execution_count": null,
      "outputs": []
    },
    {
      "cell_type": "markdown",
      "metadata": {
        "id": "8M0OdOTLr3xo"
      },
      "source": [
        "### **Настройки**"
      ]
    },
    {
      "cell_type": "code",
      "metadata": {
        "id": "l425jbVslWt_"
      },
      "source": [
        "# Время выгрузки\n",
        "time_unloading = '18:00'\n",
        "# Метка ACC\n",
        "ACC = 'V'\n",
        "# Регион\n",
        "GEO = 'PL'\n",
        "# Название файла\n",
        "file_name = 'PL_18-00.xlsx'"
      ],
      "execution_count": null,
      "outputs": []
    },
    {
      "cell_type": "markdown",
      "metadata": {
        "id": "kdxYNJCykaoh"
      },
      "source": [
        "# **Pivot table**"
      ]
    },
    {
      "cell_type": "markdown",
      "metadata": {
        "id": "hjH2QZtzGgJD"
      },
      "source": [
        "## **Fbtool**"
      ]
    },
    {
      "cell_type": "code",
      "metadata": {
        "id": "yYjPoIybYQm_"
      },
      "source": [
        "# Изменение header\n",
        "fbtool.columns = fbtool.iloc[0]\n",
        "fbtool = fbtool.reindex(fbtool.index.drop(0))\n",
        "cols = list(fbtool.columns)\n",
        "cols[1] = 'Utm_campaign'\n",
        "cols[2] = 'Сabinet'\n",
        "cols[3] = 'Cost'\n",
        "cols[4] = 'Show'\n",
        "cols[5] = 'Link_cliks'\n",
        "cols[6] = 'Install'\n",
        "fbtool.columns = cols"
      ],
      "execution_count": null,
      "outputs": []
    },
    {
      "cell_type": "code",
      "metadata": {
        "id": "xCxVYUWGjL7V"
      },
      "source": [
        "# Удаление NaN\n",
        "fbtool = fbtool.replace(0,np.nan).dropna(axis=1,how=\"all\")"
      ],
      "execution_count": null,
      "outputs": []
    },
    {
      "cell_type": "code",
      "metadata": {
        "id": "RGsI3SnbVB-1"
      },
      "source": [
        "# Удаление колонок\n",
        "fbtool.drop([\"Сabinet\", \"CPI\", \"CPC\", \"CPM\", \"CTR\"], axis=1, inplace=True )"
      ],
      "execution_count": null,
      "outputs": []
    },
    {
      "cell_type": "code",
      "metadata": {
        "id": "31STr7k2Tl41"
      },
      "source": [
        "# удалить данные после пробела\n",
        "fbtool['Utm_campaign'] = fbtool['Utm_campaign'].map(lambda x: x.split()[0])"
      ],
      "execution_count": null,
      "outputs": []
    },
    {
      "cell_type": "code",
      "metadata": {
        "id": "rxfTL52IMqNi"
      },
      "source": [
        "#print(fbtool['Utm_campaign'].values)"
      ],
      "execution_count": null,
      "outputs": []
    },
    {
      "cell_type": "code",
      "metadata": {
        "id": "SggpqyeBVKJT"
      },
      "source": [
        "# текст по столбцам\n",
        "#fb_addset = fbtool['Utm_campaign'].str.split('_', expand=True)\n",
        "fb_addset = fbtool['Utm_campaign'].str.split(r'\\_|\\-', expand=True)"
      ],
      "execution_count": null,
      "outputs": []
    },
    {
      "cell_type": "code",
      "metadata": {
        "id": "z_P5LP2ubpLA"
      },
      "source": [
        "# Header for adset\n",
        "fb_addset.columns=['adset', 'geo', 'brand', 'page', 'soc', \n",
        "                   'bm', 'acc', 'camp', 'adset1', 'int', 'placement', \n",
        "                   'gender', 'age', 'text', 'creo', 'app', 'os', 'mb']"
      ],
      "execution_count": null,
      "outputs": []
    },
    {
      "cell_type": "code",
      "metadata": {
        "id": "SSlvBONZieDw"
      },
      "source": [
        "# соединить два датафрейма по столбцам\n",
        "fbtool_final = pd.concat([fbtool,fb_addset],axis=1)"
      ],
      "execution_count": null,
      "outputs": []
    },
    {
      "cell_type": "markdown",
      "metadata": {
        "id": "cUPRhjZTjji4"
      },
      "source": [
        "### **Настройка времени и ACC метки**"
      ]
    },
    {
      "cell_type": "code",
      "metadata": {
        "id": "0uxby-bPbDOz"
      },
      "source": [
        "# Время\n",
        "fbtool_final['Time'] = time_unloading"
      ],
      "execution_count": null,
      "outputs": []
    },
    {
      "cell_type": "code",
      "metadata": {
        "id": "xxo2hnfrq_Yb"
      },
      "source": [
        "# ACC только V\n",
        "fbtool_final = fbtool_final.loc[fbtool_final.acc == ACC]"
      ],
      "execution_count": null,
      "outputs": []
    },
    {
      "cell_type": "code",
      "metadata": {
        "id": "TjBA9HkmzbB1"
      },
      "source": [
        "# Регион\n",
        "fbtool_final = fbtool_final.loc[fbtool_final.geo == GEO]"
      ],
      "execution_count": null,
      "outputs": []
    },
    {
      "cell_type": "code",
      "metadata": {
        "id": "JFXLU1Sx35xk"
      },
      "source": [
        "# Замена NaN\n",
        "fbtool_final.fillna(0, inplace=True)"
      ],
      "execution_count": null,
      "outputs": []
    },
    {
      "cell_type": "code",
      "metadata": {
        "id": "6_JOOQxEG1Ks"
      },
      "source": [
        "# Изменение форматов\n",
        "fbtool_final['Cost'] = fbtool_final['Cost'].astype(float)\n",
        "fbtool_final['Show'] = fbtool_final['Show'].astype(int)\n",
        "fbtool_final['Link_cliks'] = fbtool_final['Link_cliks'].astype(int)\n",
        "fbtool_final['Install'] = fbtool_final['Install'].astype(int)"
      ],
      "execution_count": null,
      "outputs": []
    },
    {
      "cell_type": "code",
      "metadata": {
        "id": "s-A_dppC0XCX"
      },
      "source": [
        "fbtool_final = fbtool_final.loc[fbtool_final.geo == GEO]"
      ],
      "execution_count": null,
      "outputs": []
    },
    {
      "cell_type": "markdown",
      "metadata": {
        "id": "Zdsj2LaBOh1m"
      },
      "source": [
        "## **CRM**"
      ]
    },
    {
      "cell_type": "code",
      "metadata": {
        "id": "oEQB_d1IXoMR"
      },
      "source": [
        "# Удаление колонок\n",
        "crm.drop([\"Utm_source\", 'Utm_content', \"Utm_medium\"], axis=1, inplace=True)"
      ],
      "execution_count": null,
      "outputs": []
    },
    {
      "cell_type": "code",
      "metadata": {
        "id": "U2n_8KlKtXBk"
      },
      "source": [
        "# Переименование колонок\n",
        "crm = crm.rename(columns=\n",
        "                       {'Registration count': 'Reg',\n",
        "                        'Ftd count': 'Ftd'\n",
        "                       })"
      ],
      "execution_count": null,
      "outputs": []
    },
    {
      "cell_type": "code",
      "metadata": {
        "id": "f-ssJszLr9Yl"
      },
      "source": [
        "# замена прочерков\n",
        "crm['Ftd'].replace('-', 0, inplace=True)"
      ],
      "execution_count": null,
      "outputs": []
    },
    {
      "cell_type": "code",
      "metadata": {
        "id": "pzwg9Le6O8x7"
      },
      "source": [
        "# Изменение форматов\n",
        "crm['Reg'] = crm['Reg'].astype(int)\n",
        "crm['Ftd'] = crm['Ftd'].astype(int)"
      ],
      "execution_count": null,
      "outputs": []
    },
    {
      "cell_type": "markdown",
      "metadata": {
        "id": "gOB62rAB2_cF"
      },
      "source": [
        "### **Combining**"
      ]
    },
    {
      "cell_type": "code",
      "metadata": {
        "id": "GiaZhM6O7mIh"
      },
      "source": [
        "# Left join\n",
        "df = fbtool_final.merge(crm, how='left', on=[\"Utm_campaign\"])"
      ],
      "execution_count": null,
      "outputs": []
    },
    {
      "cell_type": "code",
      "metadata": {
        "id": "ftEKtVgqI4ET"
      },
      "source": [
        "# Замена NaN\n",
        "df.fillna(0, inplace=True)"
      ],
      "execution_count": null,
      "outputs": []
    },
    {
      "cell_type": "code",
      "metadata": {
        "id": "48gO8sCIElwi"
      },
      "source": [
        "# Изменение форматов\n",
        "df['Reg'] = df['Reg'].astype(int)"
      ],
      "execution_count": null,
      "outputs": []
    },
    {
      "cell_type": "markdown",
      "metadata": {
        "id": "KSmt9gzMgjl8"
      },
      "source": [
        "## **GROUP BY**"
      ]
    },
    {
      "cell_type": "code",
      "metadata": {
        "id": "fCftQr1Dc-6X"
      },
      "source": [
        "# Группировка при выборке\n",
        "df_group = pd.DataFrame(df.groupby(['bm', 'Utm_campaign'], as_index=False).sum())"
      ],
      "execution_count": null,
      "outputs": []
    },
    {
      "cell_type": "code",
      "metadata": {
        "id": "3AO8HvH1x9x8"
      },
      "source": [
        "# Вычисление\n",
        "df_group = df_group.assign(Instal_cost = df_group.Cost/df_group.Install)\n",
        "df_group = df_group.assign(Reg_cost = df_group.Cost/df_group.Reg)\n",
        "df_group = df_group.assign(CTR = df_group.Link_cliks/df_group.Show*100)\n",
        "df_group = df_group.assign(FTD_cost = df_group.Cost/df_group.Ftd)"
      ],
      "execution_count": null,
      "outputs": []
    },
    {
      "cell_type": "code",
      "metadata": {
        "id": "_rEtuhtUyxcs"
      },
      "source": [
        "# Удаление колонок\n",
        "df_group.drop(['Show', 'Link_cliks'], axis=1, inplace=True)"
      ],
      "execution_count": null,
      "outputs": []
    },
    {
      "cell_type": "code",
      "metadata": {
        "id": "_1z5Iv00zUIn"
      },
      "source": [
        "# Замена Inf\n",
        "df_group.replace([np.inf, -np.inf], 0, inplace=True)"
      ],
      "execution_count": null,
      "outputs": []
    },
    {
      "cell_type": "code",
      "metadata": {
        "id": "6GdLSnynT6aA"
      },
      "source": [
        "# Словарь класификации\n",
        "codes_cats = df_group.Utm_campaign.astype('category')\n",
        "dict_cats = dict(enumerate(codes_cats.cat.categories))"
      ],
      "execution_count": null,
      "outputs": []
    },
    {
      "cell_type": "code",
      "metadata": {
        "id": "uV14n9DMbCFc"
      },
      "source": [
        "# Присвоенные cat.codes\n",
        "df_group['ID'] = df_group.Utm_campaign.astype('category').cat.codes\n",
        "\n",
        "# Розшифровка\n",
        "#df_group['level_back'] = df_group['ID'].map(dict_cats)"
      ],
      "execution_count": null,
      "outputs": []
    },
    {
      "cell_type": "markdown",
      "metadata": {
        "id": "Ctq_ZucFfuRi"
      },
      "source": [
        "## **Modeling**"
      ]
    },
    {
      "cell_type": "code",
      "metadata": {
        "id": "7JsgvuOCjq_-"
      },
      "source": [
        "# machine learning\n",
        "from sklearn.svm import SVC, LinearSVC\n",
        "from sklearn.metrics import confusion_matrix, classification_report, roc_auc_score , accuracy_score, precision_score\n",
        "from sklearn.model_selection import train_test_split\n",
        "from xgboost.sklearn import XGBClassifier"
      ],
      "execution_count": null,
      "outputs": []
    },
    {
      "cell_type": "code",
      "metadata": {
        "id": "JLcP3vC4ZffY"
      },
      "source": [
        "df_train = pd.read_excel(\"/content/drive/My Drive/Datasets/Model_data_multi_test.xlsx\")"
      ],
      "execution_count": null,
      "outputs": []
    },
    {
      "cell_type": "code",
      "metadata": {
        "id": "yNA4x5UVZfnP"
      },
      "source": [
        "df_test = df_group[['ID', 'Cost', 'Install', 'Reg', 'Instal_cost', 'Reg_cost']].copy()"
      ],
      "execution_count": null,
      "outputs": []
    },
    {
      "cell_type": "code",
      "metadata": {
        "id": "KmGaov2LDI5L"
      },
      "source": [
        "# Переименование и удаление колонок\n",
        "df_train.drop(['Ftd', 'FTD_cost'], axis=1, inplace=True)\n",
        "\n",
        "df_train = df_train.rename(columns=\n",
        "                       {'Name': 'ID',})"
      ],
      "execution_count": null,
      "outputs": []
    },
    {
      "cell_type": "code",
      "metadata": {
        "id": "V6A1Q5rwD-l5"
      },
      "source": [
        "X = df_train.drop(\"Target\",axis=1)\n",
        "y = df_train[\"Target\"]"
      ],
      "execution_count": null,
      "outputs": []
    },
    {
      "cell_type": "code",
      "metadata": {
        "id": "zCx07Lo1IYs0"
      },
      "source": [
        "X_train, X_test, y_train, y_test = train_test_split(X,y, test_size=0.3, random_state=42)"
      ],
      "execution_count": null,
      "outputs": []
    },
    {
      "cell_type": "code",
      "metadata": {
        "id": "vaLqLsWnJkit"
      },
      "source": [
        "#Using kfold cross validation\n",
        "from sklearn.model_selection import KFold, cross_val_predict\n",
        "kf = KFold(shuffle=True, random_state=42, n_splits=3)\n",
        "for train_index, test_index in kf.split(X):\n",
        "    X_train, X_test, y_train, y_test = (X.iloc[train_index, :], \n",
        "                                        X.iloc[test_index, :], \n",
        "                                        y[train_index], \n",
        "                                        y[test_index])"
      ],
      "execution_count": null,
      "outputs": []
    },
    {
      "cell_type": "code",
      "metadata": {
        "id": "-F-LCKoQJyID"
      },
      "source": [
        "from xgboost.sklearn import XGBClassifier\n",
        "xgb=XGBClassifier(learning_rate=0.001, objective='multi:softprob', n_estimators=2500,\n",
        "                                max_depth=4, min_child_weight=0,\n",
        "                                gamma=0, subsample=0.7,\n",
        "                                colsample_bytree=0.7,\n",
        "                                scale_pos_weight=1, seed=27,\n",
        "                                reg_alpha=0.00006)\n",
        "xgb.fit(X_train,y_train)\n",
        "predict_12=xgb.predict(X_test)"
      ],
      "execution_count": null,
      "outputs": []
    },
    {
      "cell_type": "code",
      "metadata": {
        "colab": {
          "base_uri": "https://localhost:8080/"
        },
        "id": "fRxgUdebKaNx",
        "outputId": "39546ad2-23b7-4c5c-ae92-171fcc55fc9b"
      },
      "source": [
        "print(accuracy_score(y_test,predict_12))\n",
        "print(confusion_matrix(y_test,predict_12))\n",
        "print(classification_report(y_test,predict_12))"
      ],
      "execution_count": null,
      "outputs": [
        {
          "output_type": "stream",
          "text": [
            "0.9724137931034482\n",
            "[[158   4   1]\n",
            " [  1  71   0]\n",
            " [  0   2  53]]\n",
            "              precision    recall  f1-score   support\n",
            "\n",
            "           0       0.99      0.97      0.98       163\n",
            "           1       0.92      0.99      0.95        72\n",
            "           2       0.98      0.96      0.97        55\n",
            "\n",
            "    accuracy                           0.97       290\n",
            "   macro avg       0.97      0.97      0.97       290\n",
            "weighted avg       0.97      0.97      0.97       290\n",
            "\n"
          ],
          "name": "stdout"
        }
      ]
    },
    {
      "cell_type": "code",
      "metadata": {
        "id": "tstp4ySSKgRR"
      },
      "source": [
        "pred = xgb.predict(df_test)\n",
        "pred = pred.astype(np.int)"
      ],
      "execution_count": null,
      "outputs": []
    },
    {
      "cell_type": "markdown",
      "metadata": {
        "id": "E0hainE1QHpj"
      },
      "source": [
        "## **Analysis**"
      ]
    },
    {
      "cell_type": "markdown",
      "metadata": {
        "id": "d1iZQDCqZuRJ"
      },
      "source": [
        "### **Predict page**"
      ]
    },
    {
      "cell_type": "code",
      "metadata": {
        "colab": {
          "base_uri": "https://localhost:8080/"
        },
        "id": "UzSdxfPIAL5p",
        "outputId": "e86e77c1-107d-4d05-86b0-c1337cff29d0"
      },
      "source": [
        "try:\n",
        "  submission = pd.DataFrame({'ID':df_test['ID'],'score':pred})\n",
        "\n",
        "  predict = pd.merge(df_group, \n",
        "                    submission,\n",
        "                    on = 'ID')\n",
        "\n",
        "  def score_df(el):\n",
        "    if el == 0:\n",
        "      return 'Restrat'\n",
        "    elif el == 1:\n",
        "      return 'Active'\n",
        "    else:\n",
        "      return 'Threshold'\n",
        "\n",
        "  predict['Score'] = predict['score'].map(score_df)\n",
        "\n",
        "  stop_list = df_stop['bm'].tolist()\n",
        "  def stop_df(el):\n",
        "    if el in stop_list:\n",
        "      return 'Stop'\n",
        "    else:\n",
        "      return 'Active'\n",
        "\n",
        "  predict['Status'] = predict['bm'].map(stop_df)\n",
        "\n",
        "  predict = predict[['bm', 'Utm_campaign', 'Cost', 'Install', 'Reg', \n",
        "                'Ftd', 'Instal_cost', 'Reg_cost', 'FTD_cost', 'CTR', 'Score', 'Status']]\n",
        "\n",
        "  # Два знака после запятой\n",
        "  predict = predict.round(decimals=2)\n",
        "\n",
        "  # Замена Inf\n",
        "  predict.replace(np.nan, 0, inplace=True)\n",
        "\n",
        "  # Сортировка Cost по возростанию\n",
        "  predict = predict.sort_values(['Status', 'Score', 'Cost'], ascending=[True, True, False])\n",
        "\n",
        "  # Замена 0 на -\n",
        "  predict['Instal_cost'].replace(0, '-', inplace=True)\n",
        "  predict['Reg_cost'].replace(0, '-', inplace=True)\n",
        "  predict['FTD_cost'].replace(0, '-', inplace=True)\n",
        "  \n",
        "  print(1)\n",
        "except:\n",
        "  submission = pd.DataFrame({'ID':df_test['ID'],'score':pred})\n",
        "\n",
        "  predict = pd.merge(df_group, \n",
        "                    submission,\n",
        "                    on = 'ID')\n",
        "\n",
        "  def score_df(el):\n",
        "    if el == 0:\n",
        "      return 'Restrat'\n",
        "    elif el == 1:\n",
        "      return 'Active'\n",
        "    else:\n",
        "      return 'Threshold'\n",
        "\n",
        "  predict['Score'] = predict['score'].map(score_df)\n",
        "\n",
        "  predict = predict[['bm', 'Utm_campaign', 'Cost', 'Install', 'Reg', \n",
        "                'Ftd', 'Instal_cost', 'Reg_cost', 'FTD_cost', 'CTR', 'Score']]\n",
        "\n",
        "  # Два знака после запятой\n",
        "  predict = predict.round(decimals=2)\n",
        "\n",
        "  # Замена Inf\n",
        "  predict.replace(np.nan, 0, inplace=True)\n",
        "\n",
        "  # Сортировка Cost по возростанию\n",
        "  predict = predict.sort_values(['Score', 'Cost'], ascending=[True, False])\n",
        "\n",
        "  # Замена 0 на -\n",
        "  predict['Instal_cost'].replace(0, '-', inplace=True)\n",
        "  predict['Reg_cost'].replace(0, '-', inplace=True)\n",
        "  predict['FTD_cost'].replace(0, '-', inplace=True)\n",
        "  print(2)"
      ],
      "execution_count": null,
      "outputs": [
        {
          "output_type": "stream",
          "text": [
            "1\n"
          ],
          "name": "stdout"
        }
      ]
    },
    {
      "cell_type": "markdown",
      "metadata": {
        "id": "6xkklUjwT3zO"
      },
      "source": [
        "### **Total page**"
      ]
    },
    {
      "cell_type": "code",
      "metadata": {
        "colab": {
          "base_uri": "https://localhost:8080/"
        },
        "id": "ciNEZv74T3AQ",
        "outputId": "f7c5b18e-a4bc-4e73-c69f-27447bd88fae"
      },
      "source": [
        "try:\n",
        "  df = df[['Time', 'Utm_campaign', 'Cost', 'Show', 'Link_cliks', 'Install', 'Reg',\n",
        "      'Ftd', 'adset', 'geo', 'brand', 'page', 'soc', 'bm', 'acc', 'camp',\n",
        "      'adset1', 'int', 'placement', 'gender', 'age', 'text', 'creo', 'app',\n",
        "      'os', 'mb']]\n",
        "\n",
        "  df1['int'] = df1['int'].astype(str)\n",
        "  df1['age'] = df1['age'].astype(str)\n",
        "  df1_sum = df1.groupby(['Utm_campaign'], as_index=False).sum().copy()\n",
        "\n",
        "  result = pd.merge(df, df1_sum, how=\"left\", on=[\"Utm_campaign\"], suffixes=('', '_x'))\n",
        "  # Замена NaN\n",
        "  result.fillna(0, inplace=True)\n",
        "\n",
        "  # Вычисление\n",
        "  result['Cost'] = result['Cost'] - result['Cost_x']\n",
        "  result['Show'] = result['Show'] - result['Show_x']\n",
        "  result['Link_cliks'] = result['Link_cliks'] - result['Link_cliks_x']\n",
        "  result['Install'] = result['Install'] - result['Install_x']\n",
        "  result['Reg'] = result['Reg'] - result['Reg_x']\n",
        "  result['Ftd'] = result['Ftd'] - result['Ftd_x']\n",
        "  \n",
        "  result.drop(['Cost_x', 'Show_x', 'Link_cliks_x', 'Install_x', 'Reg_x', 'Ftd_x'], axis=1, inplace=True)\n",
        "\n",
        "  df_hourly = df1.append(result.loc[:, :])\n",
        "  \n",
        "  # Добавление Status для фильтра\n",
        "  df_stop['Status'] = 'Stop'\n",
        "  df_hourly = pd.merge(df_hourly, df_stop, how=\"left\", on=[\"bm\"])  \n",
        "  \n",
        "  # Добавление Score для фильтра\n",
        "  df_predict = predict[['Score', 'Utm_campaign']].copy()\n",
        "  df_hourly = pd.merge(df_hourly, df_predict, how=\"left\", on=[\"Utm_campaign\"])\n",
        "\n",
        "\n",
        "\n",
        "  # Группировка при выборке df_hourly + добавление ID\n",
        "  df_group_hourly = pd.DataFrame(df_hourly.groupby(['bm'], as_index=False).sum().sort_values(['Cost'], ascending=False))\n",
        "  df_group_hourly[\"ID\"] = np.arange(0, 0 + len(df_group_hourly))\n",
        "  df_group_hourly = df_group_hourly[['bm', 'ID']]\n",
        "\n",
        "  df_hourly = pd.merge(df_hourly, df_group_hourly, how=\"left\", on=[\"bm\"])\n",
        "\n",
        "  # Сводная таблица\n",
        "  df_pivot = df_hourly.loc[(df_hourly.Status != 'Stop') & (df_hourly.Score != 'Restrat')].groupby(['ID', 'bm']).apply(lambda sub: sub.pivot_table(\n",
        "      index=['Utm_campaign', 'Time'],\n",
        "      values=['Cost', 'Install', 'Show', 'Link_cliks', 'Reg', 'Ftd'],\n",
        "      aggfunc=np.sum,\n",
        "      margins=True,\n",
        "      margins_name='Total'\n",
        "  ))\n",
        "\n",
        "  # Вычисление\n",
        "  df_pivot = df_pivot.assign(Instal_cost = df_pivot.Cost/df_pivot.Install)\n",
        "  df_pivot = df_pivot.assign(Reg_cost = df_pivot.Cost/df_pivot.Reg)\n",
        "  df_pivot = df_pivot.assign(FTD_cost = df_pivot.Cost/df_pivot.Ftd)\n",
        "  df_pivot = df_pivot.assign(CTR = df_pivot.Link_cliks/df_pivot.Show*100)\n",
        "\n",
        "  # Замена Inf\n",
        "  df_pivot.replace([np.inf, -np.inf, np.nan], 0, inplace=True)\n",
        "  # Два знака после запятой\n",
        "  df_pivot = df_pivot.round(decimals=2)\n",
        "  # Удалить колонки \n",
        "  df_pivot = df_pivot.drop(['Link_cliks', 'Show'], axis=1)\n",
        "\n",
        "  # Сортировка по первому уровню\n",
        "  df_pivot = df_pivot.sort_values(by = [\"ID\", 'Utm_campaign'], axis = 0, ascending=[True, False])\n",
        "\n",
        "  df_pivot = df_pivot.droplevel('ID')\n",
        "  df_hourly.drop(['ID', 'Score', 'Status'], axis=1, inplace=True)\n",
        "\n",
        "  # Замена 0 на -\n",
        "  df_pivot['Instal_cost'].replace(0, '-', inplace=True)\n",
        "  df_pivot['Reg_cost'].replace(0, '-', inplace=True)\n",
        "  df_pivot['FTD_cost'].replace(0, '-', inplace=True)\n",
        "\n",
        "  df_pivot = df_pivot[['Cost', 'Install', 'Reg', 'Ftd', 'Instal_cost', 'Reg_cost', 'FTD_cost', 'CTR']]\n",
        "  print('1')\n",
        "except:\n",
        "  df_pivot = df.groupby(['bm', 'Utm_campaign', 'Time']).sum().sort_values(['Cost'], ascending=False)\n",
        "\n",
        "  # Вычисление\n",
        "  df_pivot = df_pivot.assign(Instal_cost = df_pivot.Cost/df_pivot.Install)\n",
        "  df_pivot = df_pivot.assign(Reg_cost = df_pivot.Cost/df_pivot.Reg)\n",
        "  df_pivot = df_pivot.assign(FTD_cost = df_pivot.Cost/df_pivot.Ftd)\n",
        "  df_pivot = df_pivot.assign(CTR = df_pivot.Link_cliks/df_pivot.Show*100) \n",
        "\n",
        "  # Замена Inf\n",
        "  df_pivot.replace([np.inf, -np.inf, np.nan], 0, inplace=True)\n",
        "  # Два знака после запятой\n",
        "  df_pivot = df_pivot.round(decimals=2)\n",
        "  # Удалить колонки \n",
        "  df_pivot = df_pivot.drop(['Link_cliks', 'Show'], axis=1)\n",
        "  \n",
        "  # Замена 0 на -\n",
        "  df_pivot['Instal_cost'].replace(0, '-', inplace=True)\n",
        "  df_pivot['Reg_cost'].replace(0, '-', inplace=True)\n",
        "  df_pivot['FTD_cost'].replace(0, '-', inplace=True)\n",
        "  \n",
        "  df_pivot = df_pivot[['Cost', 'Install', 'Reg', 'Ftd', 'Instal_cost', 'Reg_cost', 'FTD_cost', 'CTR']]\n",
        "  print('2')\n",
        "finally:\n",
        "  print(\"The 'try except' is finished\")"
      ],
      "execution_count": null,
      "outputs": [
        {
          "output_type": "stream",
          "text": [
            "1\n",
            "The 'try except' is finished\n"
          ],
          "name": "stdout"
        }
      ]
    },
    {
      "cell_type": "markdown",
      "metadata": {
        "id": "hW3hk0RjYVXQ"
      },
      "source": [
        "### **Time page**"
      ]
    },
    {
      "cell_type": "code",
      "metadata": {
        "id": "KBkFApXVYRRQ",
        "colab": {
          "base_uri": "https://localhost:8080/"
        },
        "outputId": "4d2cd398-8c35-4089-a192-9974dcc401eb"
      },
      "source": [
        "try:\n",
        "  df_time = pd.pivot_table(df_hourly, values=['Cost','Link_cliks', 'Show', 'Install', 'Reg', 'Ftd'], \n",
        "                           index=['Time'], aggfunc='sum',\n",
        "                           margins=True, margins_name='Total')\n",
        "\n",
        "  # Вычисление\n",
        "  df_time = df_time.assign(Instal_cost = df_time.Cost/df_time.Install)\n",
        "  df_time = df_time.assign(Reg_cost = df_time.Cost/df_time.Reg)\n",
        "  df_time = df_time.assign(FTD_cost = df_time.Cost/df_time.Ftd)\n",
        "  df_time = df_time.assign(CTR = df_time.Link_cliks/df_time.Show*100)\n",
        "\n",
        "  # Замена Inf\n",
        "  df_time.replace([np.inf, -np.inf, np.nan], 0, inplace=True)\n",
        "\n",
        "  # Два знака после запятой\n",
        "  df_time = df_time.round(decimals=2)\n",
        "\n",
        "  # Удалить колонки \n",
        "  df_time = df_time.drop(['Link_cliks', 'Show'], axis=1)\n",
        "\n",
        "  # Замена 0 на -\n",
        "  df_time['Instal_cost'].replace(0, '-', inplace=True)\n",
        "  df_time['Reg_cost'].replace(0, '-', inplace=True)\n",
        "  df_time['FTD_cost'].replace(0, '-', inplace=True)\n",
        "  df_time = df_time[['Cost', 'Install', 'Reg', 'Ftd', 'Instal_cost', 'Reg_cost', 'FTD_cost', 'CTR']]\n",
        "  print(1)\n",
        "except:\n",
        "  df_time = pd.DataFrame(df[['Time', 'Cost','Link_cliks', 'Show', 'Install', 'Reg', 'Ftd']])\n",
        "\n",
        "  df_time = df_time.groupby('Time').sum().copy()\n",
        "\n",
        "  # Вычисление\n",
        "  df_time = df_time.assign(Instal_cost = df_time.Cost/df_time.Install)\n",
        "  df_time = df_time.assign(Reg_cost = df_time.Cost/df_time.Reg)\n",
        "  df_time = df_time.assign(FTD_cost = df_time.Cost/df_time.Ftd)\n",
        "  df_time = df_time.assign(CTR = df_time.Link_cliks/df_time.Show*100)\n",
        "\n",
        "  # Замена Inf\n",
        "  df_time.replace([np.inf, -np.inf, np.nan], 0, inplace=True)\n",
        "\n",
        "  # Два знака после запятой\n",
        "  df_time = df_time.round(decimals=2)\n",
        "\n",
        "  # Удалить колонки \n",
        "  df_time = df_time.drop(['Link_cliks', 'Show'], axis=1)\n",
        "\n",
        "  # Замена 0 на -\n",
        "  df_time['Instal_cost'].replace(0, '-', inplace=True)\n",
        "  df_time['Reg_cost'].replace(0, '-', inplace=True)\n",
        "  df_time['FTD_cost'].replace(0, '-', inplace=True)\n",
        "\n",
        "  df_time = df_time[['Cost', 'Install', 'Reg', 'Ftd', 'Instal_cost', 'Reg_cost', 'FTD_cost', 'CTR']]\n",
        "  print(2)\n",
        "finally:\n",
        "  print(\"The 'try except' is finished\")\n",
        "\n"
      ],
      "execution_count": null,
      "outputs": [
        {
          "output_type": "stream",
          "text": [
            "1\n",
            "The 'try except' is finished\n"
          ],
          "name": "stdout"
        }
      ]
    },
    {
      "cell_type": "markdown",
      "metadata": {
        "id": "FTe6pL84Z6Zj"
      },
      "source": [
        "### **Creo page**"
      ]
    },
    {
      "cell_type": "code",
      "metadata": {
        "id": "0TGM-_ix_AxI"
      },
      "source": [
        "pivot_creo = pd.pivot_table(df, values=['Cost', 'Install', 'Show', 'Link_cliks', 'Reg', 'Ftd'], \n",
        "               index=['creo', 'app'], aggfunc='sum').sort_values('Cost', ascending=False)\n",
        "\n",
        "\n",
        "# Вычисление\n",
        "pivot_creo = pivot_creo.assign(Instal_cost = pivot_creo.Cost/pivot_creo.Install)\n",
        "pivot_creo = pivot_creo.assign(Reg_cost = pivot_creo.Cost/pivot_creo.Reg)\n",
        "pivot_creo = pivot_creo.assign(FTD_cost = pivot_creo.Cost/pivot_creo.Ftd)\n",
        "pivot_creo = pivot_creo.assign(CTR = pivot_creo.Link_cliks/pivot_creo.Show*100)\n",
        "\n",
        "# Замена Inf\n",
        "pivot_creo.replace([np.inf, -np.inf, np.nan], 0, inplace=True)\n",
        "\n",
        "# Два знака после запятой\n",
        "pivot_creo = pivot_creo.round(decimals=2)\n",
        "\n",
        "# Удалить колонки \n",
        "pivot_creo = pivot_creo.drop(['Link_cliks', 'Show'], axis=1)\n",
        "\n",
        "# Сортировка по первому уровню\n",
        "# pivot_creo = pivot_creo.sort_values(by = ['creo', \"app\"], axis = 0, ascending=[True, True])\n",
        "\n",
        "# Замена 0 на -\n",
        "pivot_creo['Instal_cost'].replace(0, '-', inplace=True)\n",
        "pivot_creo['Reg_cost'].replace(0, '-', inplace=True)\n",
        "pivot_creo['FTD_cost'].replace(0, '-', inplace=True)\n",
        "\n",
        "pivot_creo = pivot_creo[['Cost', 'Install', 'Reg', 'Ftd', 'Instal_cost', 'Reg_cost', 'FTD_cost', 'CTR']]"
      ],
      "execution_count": null,
      "outputs": []
    },
    {
      "cell_type": "markdown",
      "metadata": {
        "id": "x4MPePaDhBRl"
      },
      "source": [
        "### **App page**"
      ]
    },
    {
      "cell_type": "code",
      "metadata": {
        "id": "MvdOg-4AIfJL"
      },
      "source": [
        "pivot_app = pd.pivot_table(df, values=['Cost', 'Install', 'Show', 'Link_cliks', 'Reg', 'Ftd'], \n",
        "               index=['app', 'creo'], aggfunc='sum').sort_values('Cost', ascending=False)\n",
        "\n",
        "# Вычисление\n",
        "pivot_app = pivot_app.assign(Instal_cost = pivot_app.Cost/pivot_app.Install)\n",
        "pivot_app = pivot_app.assign(Reg_cost = pivot_app.Cost/pivot_app.Reg)\n",
        "pivot_app = pivot_app.assign(FTD_cost = pivot_app.Cost/pivot_app.Ftd)\n",
        "pivot_app = pivot_app.assign(CTR = pivot_app.Link_cliks/pivot_app.Show*100)\n",
        "\n",
        "# Замена Inf\n",
        "pivot_app.replace([np.inf, -np.inf, np.nan], 0, inplace=True)\n",
        "\n",
        "# Два знака после запятой\n",
        "pivot_app = pivot_app.round(decimals=2)\n",
        "\n",
        "# Удалить колонки \n",
        "pivot_app = pivot_app.drop(['Link_cliks', 'Show'], axis=1)\n",
        "\n",
        "# Сортировка по первому уровню\n",
        "# pivot_app = pivot_app.sort_values(by = ['app', \"creo\"], axis = 0, ascending=[True, False])\n",
        "\n",
        "# Замена 0 на -\n",
        "pivot_app['Instal_cost'].replace(0, '-', inplace=True)\n",
        "pivot_app['Reg_cost'].replace(0, '-', inplace=True)\n",
        "pivot_app['FTD_cost'].replace(0, '-', inplace=True)\n",
        "\n",
        "pivot_app = pivot_app[['Cost', 'Install', 'Reg', 'Ftd', 'Instal_cost', 'Reg_cost', 'FTD_cost', 'CTR']]"
      ],
      "execution_count": null,
      "outputs": []
    },
    {
      "cell_type": "markdown",
      "metadata": {
        "id": "48OfAFh2KB71"
      },
      "source": [
        "### **Information page**"
      ]
    },
    {
      "cell_type": "code",
      "metadata": {
        "id": "b-nQ6d9pGGRs",
        "colab": {
          "base_uri": "https://localhost:8080/"
        },
        "outputId": "fdfa1f4c-81a0-454c-d31b-26d4392b64c8"
      },
      "source": [
        "try:\n",
        "  df_info = df_hourly\n",
        "  print(1)\n",
        "except:\n",
        "  df_info = df[['Time', 'Utm_campaign', 'Cost', 'Show', 'Link_cliks', \n",
        "          'Install', 'Reg', 'Ftd', 'adset', 'geo', 'brand', 'page', \n",
        "          'soc', 'bm', 'acc', 'camp', 'adset1', 'int', 'placement', \n",
        "          'gender', 'age', 'text', 'creo', 'app', 'os', 'mb']]\n",
        "  print(\"2\")\n",
        "finally:\n",
        "  print(\"The 'try except' is finished\")"
      ],
      "execution_count": null,
      "outputs": [
        {
          "output_type": "stream",
          "text": [
            "1\n",
            "The 'try except' is finished\n"
          ],
          "name": "stdout"
        }
      ]
    },
    {
      "cell_type": "markdown",
      "metadata": {
        "id": "s1Pgjo6oRIQh"
      },
      "source": [
        "## **Save file**"
      ]
    },
    {
      "cell_type": "code",
      "metadata": {
        "id": "SBzXyNmOolM-"
      },
      "source": [
        "writer = pd.ExcelWriter(file_name, engine='xlsxwriter')\n",
        "\n",
        "# Write each dataframe to a different worksheet.\n",
        "predict.to_excel(writer, sheet_name='Predict', index=False)\n",
        "df_pivot.to_excel(writer, sheet_name='Total')\n",
        "df_time.to_excel(writer, sheet_name='Time')\n",
        "pivot_creo.to_excel(writer, sheet_name='Creo')\n",
        "pivot_app.to_excel(writer, sheet_name='App')\n",
        "df_info.to_excel(writer, sheet_name='Information', index=False)\n",
        "\n",
        "# Get the xlsxwriter workbook and worksheet objects.\n",
        "workbook  = writer.book\n",
        "worksheet_predict = writer.sheets['Predict']\n",
        "worksheet_total = writer.sheets['Total']\n",
        "worksheet_time = writer.sheets['Time']\n",
        "worksheet_creo = writer.sheets['Creo']\n",
        "worksheet_app = writer.sheets['App']\n",
        "\n",
        "# Number Format Categorie\n",
        "currency_format = workbook.add_format({'num_format': \n",
        "                                       '_-* # ##0_-;-* # ##0_-;_-* \"-\"??_-;_-@_-'})\n",
        "center = workbook.add_format({'align': 'center'})\n",
        "# format2 = workbook.add_format({'num_format': '_-* # ##0,00\\ _₽_-;-* # ##0,00\\ _₽_-;_-* \"-\"??\\ _₽_-;_-@_-'})\n",
        "\n",
        "# Set the column width and format.\n",
        "worksheet_predict.set_column('A:A', 15)\n",
        "worksheet_predict.set_column('B:B', 50)\n",
        "worksheet_predict.set_column('C:F', None, currency_format)\n",
        "worksheet_predict.set_column('K:L', 12, center)\n",
        "\n",
        "worksheet_total.set_column('A:A', 18)\n",
        "worksheet_total.set_column('B:B', 50)\n",
        "worksheet_total.set_column('C:C', None, center)\n",
        "worksheet_total.set_column('D:G', None, currency_format)\n",
        "\n",
        "worksheet_time.set_column('A:A', None, center)\n",
        "worksheet_time.set_column('B:E', None, currency_format)\n",
        "\n",
        "worksheet_creo.set_column('A:A', 20)\n",
        "worksheet_creo.set_column('B:B', 30)\n",
        "worksheet_creo.set_column('C:F', None, currency_format)\n",
        "\n",
        "worksheet_app.set_column('A:A', 30)\n",
        "worksheet_app.set_column('B:B', 20)\n",
        "worksheet_app.set_column('C:F', None, currency_format)\n",
        "\n",
        "# Close the Pandas Excel writer and output the Excel file.\n",
        "writer.save()"
      ],
      "execution_count": null,
      "outputs": []
    },
    {
      "cell_type": "code",
      "metadata": {
        "colab": {
          "base_uri": "https://localhost:8080/"
        },
        "id": "eON9UrUY1E8x",
        "outputId": "89ebf777-3b98-497d-d4f2-de76762d2ef3"
      },
      "source": [
        "# Загрузить файл\n",
        "from google.colab import files\n",
        "files.download(file_name)"
      ],
      "execution_count": null,
      "outputs": [
        {
          "output_type": "display_data",
          "data": {
            "application/javascript": [
              "\n",
              "    async function download(id, filename, size) {\n",
              "      if (!google.colab.kernel.accessAllowed) {\n",
              "        return;\n",
              "      }\n",
              "      const div = document.createElement('div');\n",
              "      const label = document.createElement('label');\n",
              "      label.textContent = `Downloading \"${filename}\": `;\n",
              "      div.appendChild(label);\n",
              "      const progress = document.createElement('progress');\n",
              "      progress.max = size;\n",
              "      div.appendChild(progress);\n",
              "      document.body.appendChild(div);\n",
              "\n",
              "      const buffers = [];\n",
              "      let downloaded = 0;\n",
              "\n",
              "      const channel = await google.colab.kernel.comms.open(id);\n",
              "      // Send a message to notify the kernel that we're ready.\n",
              "      channel.send({})\n",
              "\n",
              "      for await (const message of channel.messages) {\n",
              "        // Send a message to notify the kernel that we're ready.\n",
              "        channel.send({})\n",
              "        if (message.buffers) {\n",
              "          for (const buffer of message.buffers) {\n",
              "            buffers.push(buffer);\n",
              "            downloaded += buffer.byteLength;\n",
              "            progress.value = downloaded;\n",
              "          }\n",
              "        }\n",
              "      }\n",
              "      const blob = new Blob(buffers, {type: 'application/binary'});\n",
              "      const a = document.createElement('a');\n",
              "      a.href = window.URL.createObjectURL(blob);\n",
              "      a.download = filename;\n",
              "      div.appendChild(a);\n",
              "      a.click();\n",
              "      div.remove();\n",
              "    }\n",
              "  "
            ],
            "text/plain": [
              "<IPython.core.display.Javascript object>"
            ]
          },
          "metadata": {
            "tags": []
          }
        },
        {
          "output_type": "display_data",
          "data": {
            "application/javascript": [
              "download(\"download_bcad6931-1d2a-4942-8f2a-839adc7723f2\", \"PL_18-00.xlsx\", 23422)"
            ],
            "text/plain": [
              "<IPython.core.display.Javascript object>"
            ]
          },
          "metadata": {
            "tags": []
          }
        }
      ]
    },
    {
      "cell_type": "code",
      "metadata": {
        "id": "x4avvykK3aC7"
      },
      "source": [
        "# # Загрузить файл\n",
        "# test_df_2.to_excel('AdsetPredicted.xlsx',)\n",
        "# from google.colab import files\n",
        "# files.download('AdsetPredicted.xlsx')"
      ],
      "execution_count": null,
      "outputs": []
    },
    {
      "cell_type": "code",
      "metadata": {
        "id": "BCtbnZPkNZN8"
      },
      "source": [
        "# rng = np.random.default_rng()\n",
        "# s1 = pd.DataFrame(rng.uniform(0, 5, size=(200, 1)), columns=['Cost'])\n",
        "# s2 = pd.DataFrame(rng.integers(0, 6, size=(200, 1)), columns=['Install'])\n",
        "# s3 = pd.DataFrame(rng.integers(0, 4, size=(200, 1)), columns=['Reg'])"
      ],
      "execution_count": null,
      "outputs": []
    },
    {
      "cell_type": "code",
      "metadata": {
        "id": "HE69iQObjaG2"
      },
      "source": [
        "# test_df = pd.concat([s1, s2, s3], axis=1)"
      ],
      "execution_count": null,
      "outputs": []
    },
    {
      "cell_type": "code",
      "metadata": {
        "id": "6fx_38WqkmJK"
      },
      "source": [
        "# s4 = pd.DataFrame(rng.uniform(5, 20, size=(100, 1)), columns=['Cost'])\n",
        "# s5 = pd.DataFrame(rng.integers(0, 8, size=(100, 1)), columns=['Install'])\n",
        "# s6 = pd.DataFrame(rng.integers(0, 5, size=(100, 1)), columns=['Reg'])"
      ],
      "execution_count": null,
      "outputs": []
    },
    {
      "cell_type": "code",
      "metadata": {
        "id": "A_10sbypZ8XI"
      },
      "source": [
        "# test_df_3 = pd.concat([s4, s5, s6], axis=1)"
      ],
      "execution_count": null,
      "outputs": []
    },
    {
      "cell_type": "code",
      "metadata": {
        "id": "EBmZ_rGarMsj"
      },
      "source": [
        "#  test_df_2 = test_df.append(test_df_3)"
      ],
      "execution_count": null,
      "outputs": []
    }
  ]
}