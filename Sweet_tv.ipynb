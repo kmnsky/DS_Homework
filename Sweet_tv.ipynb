{
 "cells": [
  {
   "cell_type": "code",
   "execution_count": 73,
   "metadata": {},
   "outputs": [],
   "source": [
    "import requests\n",
    "import csv\n",
    "from bs4 import BeautifulSoup\n",
    "HEADERS = {\n",
    "    'accept': 'text/html,application/xhtml+xml,application/xml;q=0.9,image/avif,image/webp,image/apng,*/*;q=0.8,application/signed-exchange;v=b3;q=0.9',\n",
    "    'user-agent': 'Mozilla/5.0 (iPad; CPU OS 11_0 like Mac OS X) AppleWebKit/604.1.34 (KHTML, like Gecko) Version/11.0 Mobile/15A5341f Safari/604.1'\n",
    "}"
   ]
  },
  {
   "cell_type": "code",
   "execution_count": 74,
   "metadata": {},
   "outputs": [],
   "source": [
    "HOST = 'https://sweet.tv'\n",
    "URL = 'https://sweet.tv/movies/multfilmi'\n",
    "CSV = 'cartoons.csv'"
   ]
  },
  {
   "cell_type": "code",
   "execution_count": 76,
   "metadata": {},
   "outputs": [],
   "source": [
    "def get_html(url, params=''):\n",
    "    r = requests.get(url, headers = HEADERS, params=params)\n",
    "    return r"
   ]
  },
  {
   "cell_type": "code",
   "execution_count": 83,
   "metadata": {},
   "outputs": [],
   "source": [
    "def get_content(html):\n",
    "    soup = BeautifulSoup(html, 'html.parser')\n",
    "    items = soup.find_all('li', class_='film-item-container')\n",
    "    cartoons = []\n",
    "    \n",
    "    for item in items:\n",
    "        cartoons.append(\n",
    "            {\n",
    "                'title':item.find('a', class_='film-item').get('title'),\n",
    "                'link_movie':item.find('a', class_='film-item').get('href')\n",
    "            }\n",
    "        )\n",
    "    return cartoons"
   ]
  },
  {
   "cell_type": "code",
   "execution_count": 78,
   "metadata": {},
   "outputs": [],
   "source": [
    "def save_doc(items, path):\n",
    "    with open(path, 'w', newline='') as file:\n",
    "        writer = csv.writer(file, delimiter=';')\n",
    "        writer.writerow(['Назва','Ссилка'])\n",
    "        for item in items:\n",
    "            writer.writerow([item['title'], item['link_movie']])"
   ]
  },
  {
   "cell_type": "code",
   "execution_count": 86,
   "metadata": {},
   "outputs": [],
   "source": [
    "def parser():\n",
    "    PAGENATION = int(input('Вкажіть кількість сторінок: '))\n",
    "    html = get_html(URL)\n",
    "    if html.status_code == 200:\n",
    "        cartoons = []\n",
    "        for page in range(1, PAGENATION+1):\n",
    "            print(f'Парсимо сторінку: {page}')\n",
    "            html = get_html(URL, params={'page': page})\n",
    "            cartoons.extend(get_content(html.text))\n",
    "        save_doc(cartoons, CSV)\n",
    "    else:\n",
    "        print('Error')"
   ]
  },
  {
   "cell_type": "code",
   "execution_count": 88,
   "metadata": {
    "scrolled": true
   },
   "outputs": [
    {
     "name": "stdout",
     "output_type": "stream",
     "text": [
      "Вкажіть кількість сторінок: 9\n",
      "Парсимо сторінку: 1\n",
      "Парсимо сторінку: 2\n",
      "Парсимо сторінку: 3\n",
      "Парсимо сторінку: 4\n",
      "Парсимо сторінку: 5\n",
      "Парсимо сторінку: 6\n",
      "Парсимо сторінку: 7\n",
      "Парсимо сторінку: 8\n",
      "Парсимо сторінку: 9\n"
     ]
    }
   ],
   "source": [
    "parser()"
   ]
  },
  {
   "cell_type": "code",
   "execution_count": null,
   "metadata": {},
   "outputs": [],
   "source": []
  }
 ],
 "metadata": {
  "kernelspec": {
   "display_name": "Python 3",
   "language": "python",
   "name": "python3"
  },
  "language_info": {
   "codemirror_mode": {
    "name": "ipython",
    "version": 3
   },
   "file_extension": ".py",
   "mimetype": "text/x-python",
   "name": "python",
   "nbconvert_exporter": "python",
   "pygments_lexer": "ipython3",
   "version": "3.8.3"
  }
 },
 "nbformat": 4,
 "nbformat_minor": 4
}
