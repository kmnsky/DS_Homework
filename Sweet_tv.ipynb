{
 "cells": [
  {
   "cell_type": "code",
   "execution_count": 17,
   "metadata": {},
   "outputs": [],
   "source": [
    "import requests\n",
    "import csv\n",
    "from bs4 import BeautifulSoup\n",
    "HEADERS = {\n",
    "    'accept': 'text/html,application/xhtml+xml,application/xml;q=0.9,image/avif,image/webp,image/apng,*/*;q=0.8,application/signed-exchange;v=b3;q=0.9',\n",
    "    'user-agent': 'Mozilla/5.0 (iPad; CPU OS 11_0 like Mac OS X) AppleWebKit/604.1.34 (KHTML, like Gecko) Version/11.0 Mobile/15A5341f Safari/604.1'\n",
    "}"
   ]
  },
  {
   "cell_type": "code",
   "execution_count": 18,
   "metadata": {},
   "outputs": [],
   "source": [
    "HOST = 'https://sweet.tv'\n",
    "URL = 'https://sweet.tv/movies/multfilmi'\n",
    "CSV = 'cartoons.csv'"
   ]
  },
  {
   "cell_type": "code",
   "execution_count": 19,
   "metadata": {},
   "outputs": [],
   "source": [
    "def get_html(url, params=''):\n",
    "    r = requests.get(url, headers = HEADERS, params=params)\n",
    "    return r"
   ]
  },
  {
   "cell_type": "code",
   "execution_count": 20,
   "metadata": {},
   "outputs": [],
   "source": [
    "def get_content(html):\n",
    "    soup = BeautifulSoup(html, 'html.parser')\n",
    "    items = soup.find_all('li', class_='film-item-container')\n",
    "    cartoons = []\n",
    "    \n",
    "    for item in items:\n",
    "        cartoons.append(\n",
    "            {\n",
    "                'title':item.find('a', class_='film-item').get('title'),\n",
    "                'link_movie':item.find('a', class_='film-item').get('href')\n",
    "            }\n",
    "        )\n",
    "    return cartoons"
   ]
  },
  {
   "cell_type": "code",
   "execution_count": 21,
   "metadata": {},
   "outputs": [
    {
     "data": {
      "text/plain": [
       "[{'title': None,\n",
       "  'link_movie': 'https://sweet.tv/movie/17239-asteriks-i-tayemne-zillya'},\n",
       " {'title': None,\n",
       "  'link_movie': 'https://sweet.tv/movie/12300-kuu-kuu-haradzyuku-1-sezon'},\n",
       " {'title': None, 'link_movie': 'https://sweet.tv/movie/20845-ulotni-komashki'},\n",
       " {'title': None,\n",
       "  'link_movie': 'https://sweet.tv/movie/7332-perepoloh-u-dzhunglyah'},\n",
       " {'title': None,\n",
       "  'link_movie': 'https://sweet.tv/movie/20907-mikita-kozhum-yaka'},\n",
       " {'title': None, 'link_movie': 'https://sweet.tv/movie/20238-rodina-adamsiv'},\n",
       " {'title': None, 'link_movie': 'https://sweet.tv/movie/14720-malenkiy-vampir'},\n",
       " {'title': None,\n",
       "  'link_movie': 'https://sweet.tv/movie/11552-bob-budivelnik-19-sezon'},\n",
       " {'title': None, 'link_movie': 'https://sweet.tv/movie/20893-ryativniki'},\n",
       " {'title': None, 'link_movie': 'https://sweet.tv/movie/20890-kung-fu-vojin'},\n",
       " {'title': None,\n",
       "  'link_movie': 'https://sweet.tv/movie/20855-brati-vedmedi-tayemnicya-troh-svitiv'},\n",
       " {'title': None,\n",
       "  'link_movie': 'https://sweet.tv/movie/20881-neymovirna-tayemnicya-lulu'},\n",
       " {'title': None,\n",
       "  'link_movie': 'https://sweet.tv/movie/20877-fish-i-chip-kaposni-druzi'},\n",
       " {'title': None,\n",
       "  'link_movie': 'https://sweet.tv/movie/17422-kit-pid-prikrittyam'},\n",
       " {'title': None,\n",
       "  'link_movie': 'https://sweet.tv/movie/15912-bdzhilka-mayya-2-medovi-igri'},\n",
       " {'title': None, 'link_movie': 'https://sweet.tv/movie/17966-grinch'},\n",
       " {'title': None,\n",
       "  'link_movie': 'https://sweet.tv/movie/20016-ted-mandrivnik-i-tayemnicya-carya-midasa'},\n",
       " {'title': None,\n",
       "  'link_movie': 'https://sweet.tv/movie/12306-lego-frends-1-sezon'},\n",
       " {'title': None, 'link_movie': 'https://sweet.tv/movie/17206-u-poshukah-dori'},\n",
       " {'title': None,\n",
       "  'link_movie': 'https://sweet.tv/movie/20822-polli-poket-2-sezon'},\n",
       " {'title': None, 'link_movie': 'https://sweet.tv/movie/7351-smurfiki'},\n",
       " {'title': None,\n",
       "  'link_movie': 'https://sweet.tv/movie/20808-pozhezhnik-sem-8-sezon'},\n",
       " {'title': None, 'link_movie': 'https://sweet.tv/movie/16183-sherlok-gnoms'},\n",
       " {'title': None, 'link_movie': 'https://sweet.tv/movie/20795-manu'},\n",
       " {'title': None,\n",
       "  'link_movie': 'https://sweet.tv/movie/20794-rif-novi-prigodi'},\n",
       " {'title': None, 'link_movie': 'https://sweet.tv/movie/6875-monstr-u-parizhi'},\n",
       " {'title': None, 'link_movie': 'https://sweet.tv/movie/16478-super-shistka'},\n",
       " {'title': None,\n",
       "  'link_movie': 'https://sweet.tv/movie/7954-indiki-povernennya-v-maybutnye'},\n",
       " {'title': None, 'link_movie': 'https://sweet.tv/movie/7232-niko-2'},\n",
       " {'title': None,\n",
       "  'link_movie': 'https://sweet.tv/movie/20463-temna-liga-spravedlivosti-viyna-apokalipsa'}]"
      ]
     },
     "execution_count": 21,
     "metadata": {},
     "output_type": "execute_result"
    }
   ],
   "source": [
    "html =get_html(URL)\n",
    "get_content(html.text)"
   ]
  },
  {
   "cell_type": "code",
   "execution_count": 78,
   "metadata": {},
   "outputs": [],
   "source": [
    "def save_doc(items, path):\n",
    "    with open(path, 'w', newline='') as file:\n",
    "        writer = csv.writer(file, delimiter=';')\n",
    "        writer.writerow(['Назва','Ссилка'])\n",
    "        for item in items:\n",
    "            writer.writerow([item['title'], item['link_movie']])"
   ]
  },
  {
   "cell_type": "code",
   "execution_count": 1,
   "metadata": {},
   "outputs": [],
   "source": [
    "def parser():\n",
    "    PAGENATION = int(input('Вкажіть кількість сторінок: '))\n",
    "    html = get_html(URL)\n",
    "    if html.status_code == 200:\n",
    "        cartoons = []\n",
    "        for page in range(1, PAGENATION+1):\n",
    "            print(f'Парсимо сторінку: {page}')\n",
    "            html = get_html(URL, params={'page': page})\n",
    "            cartoons.extend(get_content(html.text))\n",
    "        save_doc(cartoons, CSV)\n",
    "    else:\n",
    "        print('Error')"
   ]
  },
  {
   "cell_type": "code",
   "execution_count": 88,
   "metadata": {
    "scrolled": true
   },
   "outputs": [
    {
     "name": "stdout",
     "output_type": "stream",
     "text": [
      "Вкажіть кількість сторінок: 9\n",
      "Парсимо сторінку: 1\n",
      "Парсимо сторінку: 2\n",
      "Парсимо сторінку: 3\n",
      "Парсимо сторінку: 4\n",
      "Парсимо сторінку: 5\n",
      "Парсимо сторінку: 6\n",
      "Парсимо сторінку: 7\n",
      "Парсимо сторінку: 8\n",
      "Парсимо сторінку: 9\n"
     ]
    }
   ],
   "source": [
    "parser()"
   ]
  }
 ],
 "metadata": {
  "kernelspec": {
   "display_name": "Python 3",
   "language": "python",
   "name": "python3"
  },
  "language_info": {
   "codemirror_mode": {
    "name": "ipython",
    "version": 3
   },
   "file_extension": ".py",
   "mimetype": "text/x-python",
   "name": "python",
   "nbconvert_exporter": "python",
   "pygments_lexer": "ipython3",
   "version": "3.8.3"
  }
 },
 "nbformat": 4,
 "nbformat_minor": 4
}
