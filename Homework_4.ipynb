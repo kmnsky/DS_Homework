{
 "cells": [
  {
   "cell_type": "markdown",
   "metadata": {},
   "source": [
    "## Завдання 2\n",
    "    Напишіть програму \"Митниця\". Алгоритм її роботи наступний: програма на вхід получає імена людей, що перетинають кордон. \n",
    "    Ввід закінчується тоді, коли введено слово \"END\"\n",
    "    При завершені роботи, програма виводить ім’я людини та кількість перетинів кордону. "
   ]
  },
  {
   "cell_type": "code",
   "execution_count": 8,
   "metadata": {},
   "outputs": [
    {
     "name": "stdout",
     "output_type": "stream",
     "text": [
      "Андрій\n",
      "Ігор\n",
      "Ігор\n",
      "Ігор\n",
      "Оля\n",
      "END\n",
      "Андрій - 1\n",
      "Ігор - 3\n",
      "Оля - 1\n"
     ]
    }
   ],
   "source": [
    "customs = {}\n",
    "while True:\n",
    "    name = input()\n",
    "    if name == \"END\":\n",
    "        break\n",
    "    elif name in customs:\n",
    "        customs[name]=customs[name]+1\n",
    "    else:\n",
    "        customs[name]=1\n",
    "for key, value in customs.items():\n",
    "    print(key, '-', value)"
   ]
  },
  {
   "cell_type": "code",
   "execution_count": null,
   "metadata": {},
   "outputs": [],
   "source": []
  }
 ],
 "metadata": {
  "kernelspec": {
   "display_name": "Python 3",
   "language": "python",
   "name": "python3"
  },
  "language_info": {
   "codemirror_mode": {
    "name": "ipython",
    "version": 3
   },
   "file_extension": ".py",
   "mimetype": "text/x-python",
   "name": "python",
   "nbconvert_exporter": "python",
   "pygments_lexer": "ipython3",
   "version": "3.8.3"
  }
 },
 "nbformat": 4,
 "nbformat_minor": 4
}
